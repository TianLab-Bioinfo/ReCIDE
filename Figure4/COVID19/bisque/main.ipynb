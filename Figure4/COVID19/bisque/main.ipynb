{
 "cells": [
  {
   "cell_type": "code",
   "execution_count": 1,
   "id": "367e6a5a-3d80-41ef-8521-fe1092fc73a2",
   "metadata": {
    "tags": []
   },
   "outputs": [
    {
     "name": "stderr",
     "output_type": "stream",
     "text": [
      "The legacy packages maptools, rgdal, and rgeos, underpinning the sp package,\n",
      "which was just loaded, were retired in October 2023.\n",
      "Please refer to R-spatial evolution reports for details, especially\n",
      "https://r-spatial.org/r/2023/05/15/evolution4.html.\n",
      "It may be desirable to make the sf package available;\n",
      "package maintainers should consider adding sf to Suggests:.\n",
      "\n",
      "Attaching SeuratObject\n",
      "\n",
      "Loading required package: parallel\n",
      "\n"
     ]
    }
   ],
   "source": [
    "library(Seurat)\n",
    "library(BisqueRNA)\n",
    "library(fastSave)\n",
    "library(pbmcapply)\n"
   ]
  },
  {
   "cell_type": "code",
   "execution_count": 2,
   "id": "22e3f77c-7238-4e2e-b4ae-8c8a57935361",
   "metadata": {},
   "outputs": [],
   "source": [
    "ref_seurat=readRDS.lbzip2('~/scRNA_Seq_data/PBMC/Stephenson_seurat.rdsFS',n.cores = 200)\n",
    "bulk.mtx<- readRDS(\"~/ReCIDE/应用_前二_新_inter/COVID19/bulkdata/counts_data_query.rds\")"
   ]
  },
  {
   "cell_type": "code",
   "execution_count": 3,
   "id": "4fd7de81-0e1a-4944-9191-d7a2213454c0",
   "metadata": {},
   "outputs": [],
   "source": [
    "bulk.mtx<-as.matrix(bulk.mtx)\n",
    "bulk.eset <- Biobase::ExpressionSet(assayData = bulk.mtx)"
   ]
  },
  {
   "cell_type": "code",
   "execution_count": 4,
   "id": "0e9bcd96-beb0-4bcd-b5b1-197f11d0b425",
   "metadata": {
    "tags": []
   },
   "outputs": [
    {
     "name": "stderr",
     "output_type": "stream",
     "text": [
      "Warning message in asMethod(object):\n",
      "“sparse->dense coercion: allocating vector of size 11.7 GiB”\n"
     ]
    },
    {
     "data": {
      "text/html": [
       "TRUE"
      ],
      "text/latex": [
       "TRUE"
      ],
      "text/markdown": [
       "TRUE"
      ],
      "text/plain": [
       "[1] TRUE"
      ]
     },
     "metadata": {},
     "output_type": "display_data"
    },
    {
     "data": {
      "text/html": [
       "<table class=\"dataframe\">\n",
       "<caption>A matrix: 2 × 6 of type dbl</caption>\n",
       "<thead>\n",
       "\t<tr><th></th><th scope=col>used</th><th scope=col>(Mb)</th><th scope=col>gc trigger</th><th scope=col>(Mb)</th><th scope=col>max used</th><th scope=col>(Mb)</th></tr>\n",
       "</thead>\n",
       "<tbody>\n",
       "\t<tr><th scope=row>Ncells</th><td>   3478509</td><td>  185.8</td><td>   6478990</td><td>  346.1</td><td>   6478990</td><td>  346.1</td></tr>\n",
       "\t<tr><th scope=row>Vcells</th><td>1971387137</td><td>15040.5</td><td>5879065218</td><td>44853.8</td><td>6123956756</td><td>46722.1</td></tr>\n",
       "</tbody>\n",
       "</table>\n"
      ],
      "text/latex": [
       "A matrix: 2 × 6 of type dbl\n",
       "\\begin{tabular}{r|llllll}\n",
       "  & used & (Mb) & gc trigger & (Mb) & max used & (Mb)\\\\\n",
       "\\hline\n",
       "\tNcells &    3478509 &   185.8 &    6478990 &   346.1 &    6478990 &   346.1\\\\\n",
       "\tVcells & 1971387137 & 15040.5 & 5879065218 & 44853.8 & 6123956756 & 46722.1\\\\\n",
       "\\end{tabular}\n"
      ],
      "text/markdown": [
       "\n",
       "A matrix: 2 × 6 of type dbl\n",
       "\n",
       "| <!--/--> | used | (Mb) | gc trigger | (Mb) | max used | (Mb) |\n",
       "|---|---|---|---|---|---|---|\n",
       "| Ncells |    3478509 |   185.8 |    6478990 |   346.1 |    6478990 |   346.1 |\n",
       "| Vcells | 1971387137 | 15040.5 | 5879065218 | 44853.8 | 6123956756 | 46722.1 |\n",
       "\n"
      ],
      "text/plain": [
       "       used       (Mb)    gc trigger (Mb)    max used   (Mb)   \n",
       "Ncells    3478509   185.8    6478990   346.1    6478990   346.1\n",
       "Vcells 1971387137 15040.5 5879065218 44853.8 6123956756 46722.1"
      ]
     },
     "metadata": {},
     "output_type": "display_data"
    },
    {
     "name": "stderr",
     "output_type": "stream",
     "text": [
      "Warning message in asMethod(object):\n",
      "“sparse->dense coercion: allocating vector of size 11.7 GiB”\n",
      "Decomposing into 28 cell types.\n",
      "\n",
      "Using 15413 genes in both bulk and single-cell expression.\n",
      "\n",
      "Converting single-cell counts to CPM and filtering zero variance genes.\n",
      "\n",
      "Filtered 338 zero variance genes.\n",
      "\n",
      "Converting bulk counts to CPM and filtering unexpressed genes.\n",
      "\n",
      "Filtered 26 unexpressed genes.\n",
      "\n",
      "Generating single-cell based reference from 97039 cells.\n",
      "\n",
      "\n",
      "Inferring bulk transformation from single-cell alone.\n",
      "\n",
      "Applying transformation to bulk samples and decomposing.\n",
      "\n"
     ]
    }
   ],
   "source": [
    "###########################\n",
    "kk<-as.data.frame(ref_seurat@assays[[\"RNA\"]]@counts)\n",
    "kksum<-as.data.frame(apply(kk, 2, sum))\n",
    "all(kksum>0)\n",
    "kksum<-subset(kksum,kksum[,1]>0,)\n",
    "kksum<-as.data.frame(kksum)\n",
    "ref_seurat<-ref_seurat[,row.names(kksum)]\n",
    "rm(kksum)\n",
    "gc()\n",
    "\n",
    "sample.ids <- colnames(ref_seurat)\n",
    "individual.labels<-ref_seurat@meta.data['patient_id']\n",
    "cell.type.labels<-ref_seurat@meta.data['true']\n",
    "\n",
    "sc.pheno <- data.frame(check.names=F, check.rows=F,\n",
    "                       stringsAsFactors=F,\n",
    "                       row.names=sample.ids,\n",
    "                       SubjectName=individual.labels,\n",
    "                       cellType=cell.type.labels)\n",
    "\n",
    "sc.meta <- data.frame(labelDescription=c(\"SubjectName\",\n",
    "                                         \"cellType\"),\n",
    "                      row.names=c(\"SubjectName\",\n",
    "                                  \"cellType\"))\n",
    "sc.pdata <- new(\"AnnotatedDataFrame\",\n",
    "                data=sc.pheno,\n",
    "                varMetadata=sc.meta)\n",
    "\n",
    "sc.eset <- Biobase::ExpressionSet(assayData=as.matrix(ref_seurat@assays$RNA@counts),\n",
    "                                  phenoData=sc.pdata)\n",
    "colnames(sc.eset@phenoData@data)<-c(\"SubjectName\",\"cellType\")\n",
    "bisque_output <- BisqueRNA::ReferenceBasedDecomposition(bulk.eset, sc.eset, markers=NULL, use.overlap=FALSE)\n",
    "\n",
    "# saveRDS(res,file = '~/SWORD/多参考集和单参考集比较测试/除SWORD外其他方法/bisque/TNBC_QEGAD_ref161529.rds')\n",
    "\n"
   ]
  },
  {
   "cell_type": "code",
   "execution_count": 5,
   "id": "de1def02-df31-4a3d-9546-f49a37786deb",
   "metadata": {
    "tags": []
   },
   "outputs": [],
   "source": [
    "saveRDS(bisque_output,file='~/ReCIDE/应用_前二_新_inter/COVID19/bisque/bisque_output.rds')"
   ]
  },
  {
   "cell_type": "code",
   "execution_count": 6,
   "id": "31ba1e8e-8972-4dc3-bdba-b84f494e339b",
   "metadata": {
    "tags": []
   },
   "outputs": [],
   "source": [
    "bisque_output=readRDS('~/ReCIDE/应用_前二_新_inter/COVID19/bisque/bisque_output.rds')"
   ]
  },
  {
   "cell_type": "code",
   "execution_count": 7,
   "id": "493c8596-ee48-4493-bcfb-7673a97c6647",
   "metadata": {},
   "outputs": [],
   "source": [
    "prd_df <-as.data.frame(bisque_output[[\"bulk.props\"]])\n",
    "prd_df=prd_df[sort(row.names(prd_df)),sort(colnames(prd_df))]"
   ]
  },
  {
   "cell_type": "code",
   "execution_count": 8,
   "id": "362444f3-179d-4857-9c51-35b1254de3a2",
   "metadata": {},
   "outputs": [],
   "source": [
    "saveRDS(prd_df,file='~/ReCIDE/应用_前二_新_inter/COVID19/bisque/bisque_prd_df.rds')"
   ]
  },
  {
   "cell_type": "code",
   "execution_count": 9,
   "id": "18139d31-7433-45ee-a406-b8d9395eb416",
   "metadata": {},
   "outputs": [
    {
     "data": {
      "text/html": [
       "TRUE"
      ],
      "text/latex": [
       "TRUE"
      ],
      "text/markdown": [
       "TRUE"
      ],
      "text/plain": [
       "[1] TRUE"
      ]
     },
     "metadata": {},
     "output_type": "display_data"
    },
    {
     "name": "stderr",
     "output_type": "stream",
     "text": [
      "Warning message:\n",
      "“\u001b[1m\u001b[22mThe `size` argument of `element_rect()` is deprecated as of ggplot2 3.4.0.\n",
      "\u001b[36mℹ\u001b[39m Please use the `linewidth` argument instead.”\n"
     ]
    },
    {
     "data": {
      "image/png": "[encoded data removed]",
      "text/plain": [
       "plot without title"
      ]
     },
     "metadata": {
      "image/png": {
       "height": 420,
       "width": 420
      }
     },
     "output_type": "display_data"
    }
   ],
   "source": [
    "library(ggplot2)\n",
    "library(ggpubr)\n",
    "\n",
    "prd_df<- readRDS(\"~/ReCIDE/应用_前二_新_inter/COVID19/bisque/bisque_prd_df.rds\")\n",
    "# prd_df['B',]=prd_df[2,]+prd_df[3,]+prd_df[4,]\n",
    "prd_df=prd_df[,sort(colnames(prd_df))]\n",
    "prd_df['DCs',]=prd_df['DC',]+prd_df['pDC',]\n",
    "\n",
    "metadata<- readRDS(\"~/ReCIDE/应用_前二_新_inter/COVID19/bulkdata/metadata_query.rds\")\n",
    "metadata=metadata[sort(row.names(metadata)),]\n",
    "\n",
    "\n",
    "all(row.names(metadata)==colnames(prd_df))\n",
    "\n",
    "plot_data=as.data.frame(t(prd_df))\n",
    "\n",
    "plot_data[,'category']=metadata[,'characteristics_ch1.3']\n",
    "# \n",
    "# patient_names=row.names(metadata[metadata[,\"included in case -control study:ch1\"]=='yes',])\n",
    "# plot_data=plot_data[patient_names,]\n",
    "\n",
    "plot_data=subset(plot_data,category %in% c(\"sample timing: healthy\",\n",
    "                                           \"sample timing: acute\"))\n",
    "# # # \n",
    "# # \n",
    "# plot_data[,'category']=factor(plot_data[,'category'],levels = c(\"sample timing: healthy\",\n",
    "#                                                                 \"sample timing: acute\"))\n",
    "\n",
    "\n",
    "ggplot(plot_data, aes(x= category, y=DCs,fill=category)) + \n",
    "  geom_boxplot(aes(color = category),#这里的fill如果不设就是空心的\n",
    "               size = .7, alpha = .5, outlier.size = 1,\n",
    "               position = position_dodge(width = 0.5), width = 0.5) +\n",
    "  # position_dodge是箱子间距离  width是箱宽\n",
    "  # geom_boxplot(data=subset(plot_data, methods %in% 'empty'), width = .5) +\n",
    "  theme_classic() +\n",
    "  theme(\n",
    "    axis.text.x = element_text(size = 9, face = \"bold\", angle = -45),\n",
    "    axis.text.y = element_text(size = 9, face = \"bold\"),\n",
    "    # axis.text.x = element_blank(),\n",
    "    # axis.text.y = element_blank(),\n",
    "    axis.title = element_text(size = 8, face = \"bold\"),\n",
    "    plot.title = element_text(size = 8, face = \"bold\", hjust = 0.5),\n",
    "    plot.subtitle = element_text(size = 10, face = \"bold\", hjust = 0.5),\n",
    "    panel.border = element_rect(fill=NA,color=\"black\", size=1, linetype=\"solid\"),\n",
    "    legend.position = 'none'\n",
    "    # axis.title = element_text(size = 8)\n",
    "  )+\n",
    "  stat_compare_means()"
   ]
  },
  {
   "cell_type": "code",
   "execution_count": null,
   "id": "1b69dba6-3a98-4b3e-88a6-1bb3b0971a9a",
   "metadata": {},
   "outputs": [],
   "source": []
  }
 ],
 "metadata": {
  "kernelspec": {
   "display_name": "R",
   "language": "R",
   "name": "ir"
  },
  "language_info": {
   "codemirror_mode": "r",
   "file_extension": ".r",
   "mimetype": "text/x-r-source",
   "name": "R",
   "pygments_lexer": "r",
   "version": "4.3.1"
  }
 },
 "nbformat": 4,
 "nbformat_minor": 5
}
