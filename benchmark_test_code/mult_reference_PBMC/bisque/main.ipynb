{
 "cells": [
  {
   "cell_type": "code",
   "execution_count": 1,
   "id": "367e6a5a-3d80-41ef-8521-fe1092fc73a2",
   "metadata": {
    "tags": []
   },
   "outputs": [
    {
     "name": "stderr",
     "output_type": "stream",
     "text": [
      "The legacy packages maptools, rgdal, and rgeos, underpinning the sp package,\n",
      "which was just loaded, were retired in October 2023.\n",
      "Please refer to R-spatial evolution reports for details, especially\n",
      "https://r-spatial.org/r/2023/05/15/evolution4.html.\n",
      "It may be desirable to make the sf package available;\n",
      "package maintainers should consider adding sf to Suggests:.\n",
      "\n",
      "Attaching SeuratObject\n",
      "\n",
      "Loading required package: parallel\n",
      "\n"
     ]
    }
   ],
   "source": [
    "library(Seurat)\n",
    "library(BisqueRNA)\n",
    "library(fastSave)\n",
    "library(pbmcapply)\n"
   ]
  },
  {
   "cell_type": "code",
   "execution_count": 2,
   "id": "22e3f77c-7238-4e2e-b4ae-8c8a57935361",
   "metadata": {},
   "outputs": [],
   "source": [
    "ref_seurat=readRDS.lbzip2(file='~/ReCIDE/benchmark测试/mult_reference_PBMC/ref_data/ref_all.rdsFS',n.cores = 200)\n",
    "EXP<- readRDS(\"~/ReCIDE/benchmark测试/mult_reference_PBMC/EXP_and_KEY/EXP_PBMC.rds\")\n",
    "\n"
   ]
  },
  {
   "cell_type": "code",
   "execution_count": 3,
   "id": "4fd7de81-0e1a-4944-9191-d7a2213454c0",
   "metadata": {},
   "outputs": [],
   "source": [
    "##构建测试集\n",
    "bulk.mtx<-as.data.frame(EXP[[1]])\n",
    "for (i in 2:length(EXP)) {\n",
    "  bulk.mtx2<-as.data.frame(EXP[[i]])\n",
    "  bulk.mtx<-cbind(bulk.mtx,bulk.mtx2)\n",
    "  \n",
    "}\n",
    "bulk.mtx<-as.matrix(bulk.mtx)\n",
    "colnames(bulk.mtx)<-names(EXP)\n",
    "bulk.eset <- Biobase::ExpressionSet(assayData = bulk.mtx)"
   ]
  },
  {
   "cell_type": "code",
   "execution_count": 5,
   "id": "0e9bcd96-beb0-4bcd-b5b1-197f11d0b425",
   "metadata": {
    "tags": []
   },
   "outputs": [
    {
     "name": "stderr",
     "output_type": "stream",
     "text": [
      "Warning message in asMethod(object):\n",
      "“sparse->dense coercion: allocating vector of size 1.1 GiB”\n"
     ]
    },
    {
     "data": {
      "text/html": [
       "FALSE"
      ],
      "text/latex": [
       "FALSE"
      ],
      "text/markdown": [
       "FALSE"
      ],
      "text/plain": [
       "[1] FALSE"
      ]
     },
     "metadata": {},
     "output_type": "display_data"
    },
    {
     "data": {
      "text/html": [
       "<table class=\"dataframe\">\n",
       "<caption>A matrix: 2 × 6 of type dbl</caption>\n",
       "<thead>\n",
       "\t<tr><th></th><th scope=col>used</th><th scope=col>(Mb)</th><th scope=col>gc trigger</th><th scope=col>(Mb)</th><th scope=col>max used</th><th scope=col>(Mb)</th></tr>\n",
       "</thead>\n",
       "<tbody>\n",
       "\t<tr><th scope=row>Ncells</th><td>  3800316</td><td> 203.0</td><td>  6658877</td><td> 355.7</td><td>  6658877</td><td> 355.7</td></tr>\n",
       "\t<tr><th scope=row>Vcells</th><td>230227192</td><td>1756.5</td><td>729682682</td><td>5567.1</td><td>667306323</td><td>5091.2</td></tr>\n",
       "</tbody>\n",
       "</table>\n"
      ],
      "text/latex": [
       "A matrix: 2 × 6 of type dbl\n",
       "\\begin{tabular}{r|llllll}\n",
       "  & used & (Mb) & gc trigger & (Mb) & max used & (Mb)\\\\\n",
       "\\hline\n",
       "\tNcells &   3800316 &  203.0 &   6658877 &  355.7 &   6658877 &  355.7\\\\\n",
       "\tVcells & 230227192 & 1756.5 & 729682682 & 5567.1 & 667306323 & 5091.2\\\\\n",
       "\\end{tabular}\n"
      ],
      "text/markdown": [
       "\n",
       "A matrix: 2 × 6 of type dbl\n",
       "\n",
       "| <!--/--> | used | (Mb) | gc trigger | (Mb) | max used | (Mb) |\n",
       "|---|---|---|---|---|---|---|\n",
       "| Ncells |   3800316 |  203.0 |   6658877 |  355.7 |   6658877 |  355.7 |\n",
       "| Vcells | 230227192 | 1756.5 | 729682682 | 5567.1 | 667306323 | 5091.2 |\n",
       "\n"
      ],
      "text/plain": [
       "       used      (Mb)   gc trigger (Mb)   max used  (Mb)  \n",
       "Ncells   3800316  203.0   6658877   355.7   6658877  355.7\n",
       "Vcells 230227192 1756.5 729682682  5567.1 667306323 5091.2"
      ]
     },
     "metadata": {},
     "output_type": "display_data"
    },
    {
     "name": "stderr",
     "output_type": "stream",
     "text": [
      "Warning message in asMethod(object):\n",
      "“sparse->dense coercion: allocating vector of size 1.1 GiB”\n",
      "Decomposing into 11 cell types.\n",
      "\n",
      "Using 592 genes in both bulk and single-cell expression.\n",
      "\n",
      "Converting single-cell counts to CPM and filtering zero variance genes.\n",
      "\n",
      "Filtered 0 zero variance genes.\n",
      "\n",
      "Converting bulk counts to CPM and filtering unexpressed genes.\n",
      "\n",
      "Filtered 0 unexpressed genes.\n",
      "\n",
      "Generating single-cell based reference from 258196 cells.\n",
      "\n",
      "\n",
      "Inferring bulk transformation from single-cell alone.\n",
      "\n",
      "Applying transformation to bulk samples and decomposing.\n",
      "\n"
     ]
    }
   ],
   "source": [
    "###########################\n",
    "kk<-as.data.frame(ref_seurat@assays[[\"RNA\"]]@counts)\n",
    "kksum<-as.data.frame(apply(kk, 2, sum))\n",
    "all(kksum>0)\n",
    "kksum<-subset(kksum,kksum[,1]>0,)\n",
    "kksum<-as.data.frame(kksum)\n",
    "ref_seurat<-ref_seurat[,row.names(kksum)]\n",
    "rm(kksum)\n",
    "rm(kk)\n",
    "\n",
    "gc()\n",
    "\n",
    "sample.ids <- colnames(ref_seurat)\n",
    "individual.labels<-ref_seurat@meta.data['batch']\n",
    "cell.type.labels<-ref_seurat@meta.data['cell_label']\n",
    "\n",
    "sc.pheno <- data.frame(check.names=F, check.rows=F,\n",
    "                       stringsAsFactors=F,\n",
    "                       row.names=sample.ids,\n",
    "                       SubjectName=individual.labels,\n",
    "                       cellType=cell.type.labels)\n",
    "\n",
    "sc.meta <- data.frame(labelDescription=c(\"SubjectName\",\n",
    "                                         \"cellType\"),\n",
    "                      row.names=c(\"SubjectName\",\n",
    "                                  \"cellType\"))\n",
    "sc.pdata <- new(\"AnnotatedDataFrame\",\n",
    "                data=sc.pheno,\n",
    "                varMetadata=sc.meta)\n",
    "\n",
    "sc.eset <- Biobase::ExpressionSet(assayData=as.matrix(ref_seurat@assays$RNA@counts),\n",
    "                                  phenoData=sc.pdata)\n",
    "colnames(sc.eset@phenoData@data)<-c(\"SubjectName\",\"cellType\")\n",
    "bisque_output <- BisqueRNA::ReferenceBasedDecomposition(bulk.eset, sc.eset, markers=NULL, use.overlap=FALSE)\n",
    "\n",
    "# saveRDS(res,file = '~/SWORD/多参考集和单参考集比较测试/除SWORD外其他方法/bisque/TNBC_QEGAD_ref161529.rds')\n",
    "\n"
   ]
  },
  {
   "cell_type": "code",
   "execution_count": 6,
   "id": "de1def02-df31-4a3d-9546-f49a37786deb",
   "metadata": {
    "tags": []
   },
   "outputs": [],
   "source": [
    "saveRDS(bisque_output,file='~/ReCIDE/benchmark测试/mult_reference_PBMC/bisque/bisque_tutorial/bisque_output.rds')"
   ]
  },
  {
   "cell_type": "code",
   "execution_count": 1,
   "id": "31ba1e8e-8972-4dc3-bdba-b84f494e339b",
   "metadata": {
    "tags": []
   },
   "outputs": [],
   "source": [
    "bisque_output=readRDS('~/ReCIDE/benchmark测试/mult_reference_PBMC/bisque/bisque_tutorial/bisque_output.rds')"
   ]
  },
  {
   "cell_type": "code",
   "execution_count": 2,
   "id": "493c8596-ee48-4493-bcfb-7673a97c6647",
   "metadata": {},
   "outputs": [],
   "source": [
    "prd_df <-as.data.frame(bisque_output[[\"bulk.props\"]])\n",
    "prd_df=prd_df[sort(row.names(prd_df)),sort(colnames(prd_df))]"
   ]
  },
  {
   "cell_type": "code",
   "execution_count": 3,
   "id": "362444f3-179d-4857-9c51-35b1254de3a2",
   "metadata": {},
   "outputs": [],
   "source": [
    "saveRDS(prd_df,file='~/ReCIDE/benchmark测试/mult_reference_PBMC/bisque/bisque_tutorial/bisque_prd_df.rds')"
   ]
  },
  {
   "cell_type": "code",
   "execution_count": 7,
   "id": "5fd7cb7a-7c82-4f35-a80c-f8009deb7077",
   "metadata": {},
   "outputs": [],
   "source": [
    "key_df<- readRDS(\"~/ReCIDE/benchmark测试/mult_reference_PBMC/EXP_and_KEY/key_PBMC.rds\")\n",
    "key_df=key_df[sort(row.names(key_df)),colnames(prd_df)]\n"
   ]
  },
  {
   "cell_type": "code",
   "execution_count": 9,
   "id": "3e99f1be-3446-444a-a636-49a3894dbc02",
   "metadata": {},
   "outputs": [
    {
     "data": {
      "text/html": [
       "0.164855832097626"
      ],
      "text/latex": [
       "0.164855832097626"
      ],
      "text/markdown": [
       "0.164855832097626"
      ],
      "text/plain": [
       "[1] 0.1648558"
      ]
     },
     "metadata": {},
     "output_type": "display_data"
    }
   ],
   "source": [
    "RMSE_vec=c()\n",
    "for(i in 1:length(key_df)){\n",
    "  RMSE_vec[i]=ModelMetrics::rmse(key_df[,i],prd_df[,i])\n",
    "  # RMSE_vec[i]=cor(key_df[,i],prd_df[,i])\n",
    "  \n",
    "}\n",
    "median(RMSE_vec)"
   ]
  },
  {
   "cell_type": "code",
   "execution_count": 11,
   "id": "b637151d-de6a-48a2-b5f1-c86fd8d03bfc",
   "metadata": {},
   "outputs": [],
   "source": [
    "saveRDS(prd_df,file='~/ReCIDE/benchmark测试/mult_reference_PBMC/bisque/bisque_tutorial/bisque_prd_df.rds')"
   ]
  },
  {
   "cell_type": "code",
   "execution_count": 12,
   "id": "c97e7dfe-2527-4160-8e17-e741b3cf2d4d",
   "metadata": {},
   "outputs": [
    {
     "data": {
      "text/html": [
       "<table class=\"dataframe\">\n",
       "<caption>A data.frame: 7 × 18</caption>\n",
       "<thead>\n",
       "\t<tr><th></th><th scope=col>Sample-100</th><th scope=col>Sample-17</th><th scope=col>Sample-19</th><th scope=col>Sample-22</th><th scope=col>Sample-27</th><th scope=col>Sample-33</th><th scope=col>Sample-37</th><th scope=col>Sample-43</th><th scope=col>Sample-45</th><th scope=col>Sample-46</th><th scope=col>Sample-47</th><th scope=col>Sample-50</th><th scope=col>Sample-52</th><th scope=col>Sample-58</th><th scope=col>Sample-66</th><th scope=col>Sample-82</th><th scope=col>Sample-90</th><th scope=col>Sample-96</th></tr>\n",
       "\t<tr><th></th><th scope=col>&lt;dbl&gt;</th><th scope=col>&lt;dbl&gt;</th><th scope=col>&lt;dbl&gt;</th><th scope=col>&lt;dbl&gt;</th><th scope=col>&lt;dbl&gt;</th><th scope=col>&lt;dbl&gt;</th><th scope=col>&lt;dbl&gt;</th><th scope=col>&lt;dbl&gt;</th><th scope=col>&lt;dbl&gt;</th><th scope=col>&lt;dbl&gt;</th><th scope=col>&lt;dbl&gt;</th><th scope=col>&lt;dbl&gt;</th><th scope=col>&lt;dbl&gt;</th><th scope=col>&lt;dbl&gt;</th><th scope=col>&lt;dbl&gt;</th><th scope=col>&lt;dbl&gt;</th><th scope=col>&lt;dbl&gt;</th><th scope=col>&lt;dbl&gt;</th></tr>\n",
       "</thead>\n",
       "<tbody>\n",
       "\t<tr><th scope=row>Ast</th><td>0.101420765</td><td>0.066104820</td><td>0.103968514</td><td>0.05344045</td><td>0.146641691</td><td>0.06955871</td><td>0.07795560</td><td>0.058117890</td><td>0.030951876</td><td>0.026948711</td><td>0.13794244</td><td>0.10768072</td><td>0.049742710</td><td>0.08816210</td><td>0.06524773</td><td>0.05778302</td><td>0.113323124</td><td>0.060165511</td></tr>\n",
       "\t<tr><th scope=row>Exc</th><td>0.121092896</td><td>0.062154332</td><td>0.185962611</td><td>0.04889976</td><td>0.074926412</td><td>0.18324607</td><td>0.25425916</td><td>0.143743537</td><td>0.058299767</td><td>0.111851637</td><td>0.10651671</td><td>0.10993976</td><td>0.008919383</td><td>0.01279772</td><td>0.05163992</td><td>0.06603774</td><td>0.030627871</td><td>0.143592038</td></tr>\n",
       "\t<tr><th scope=row>Inh</th><td>0.092677596</td><td>0.050566237</td><td>0.102656609</td><td>0.01851205</td><td>0.180626171</td><td>0.16379955</td><td>0.17010842</td><td>0.094519131</td><td>0.050243799</td><td>0.078817734</td><td>0.18458485</td><td>0.14043675</td><td>0.003087479</td><td>0.02097405</td><td>0.09420796</td><td>0.17256289</td><td>0.070826953</td><td>0.087899799</td></tr>\n",
       "\t<tr><th scope=row>Mic</th><td>0.031475410</td><td>0.067158283</td><td>0.088225648</td><td>0.06845966</td><td>0.101418250</td><td>0.10134630</td><td>0.07124419</td><td>0.057497415</td><td>0.034131863</td><td>0.064618951</td><td>0.08534568</td><td>0.07793675</td><td>0.060034305</td><td>0.05723427</td><td>0.08967202</td><td>0.07665094</td><td>0.070061256</td><td>0.064415120</td></tr>\n",
       "\t<tr><th scope=row>Oli</th><td>0.612896175</td><td>0.720042139</td><td>0.457527058</td><td>0.77401327</td><td>0.416376773</td><td>0.40800299</td><td>0.35828601</td><td>0.607445708</td><td>0.797964808</td><td>0.681541582</td><td>0.43565994</td><td>0.47929217</td><td>0.850085763</td><td>0.76857448</td><td>0.64340544</td><td>0.54048742</td><td>0.630934150</td><td>0.599865802</td></tr>\n",
       "\t<tr><th scope=row>Opc</th><td>0.035846995</td><td>0.032920727</td><td>0.052804198</td><td>0.03143556</td><td>0.074926412</td><td>0.05160808</td><td>0.05807950</td><td>0.035780765</td><td>0.026711893</td><td>0.032454361</td><td>0.03440291</td><td>0.06438253</td><td>0.021612350</td><td>0.03163882</td><td>0.04954641</td><td>0.07507862</td><td>0.080015314</td><td>0.040035786</td></tr>\n",
       "\t<tr><th scope=row>Vas</th><td>0.004590164</td><td>0.001053463</td><td>0.008855362</td><td>0.00523926</td><td>0.005084292</td><td>0.02243829</td><td>0.01006711</td><td>0.002895553</td><td>0.001695993</td><td>0.003767024</td><td>0.01554747</td><td>0.02033133</td><td>0.006518010</td><td>0.02061856</td><td>0.00628053</td><td>0.01139937</td><td>0.004211332</td><td>0.004025945</td></tr>\n",
       "</tbody>\n",
       "</table>\n"
      ],
      "text/latex": [
       "A data.frame: 7 × 18\n",
       "\\begin{tabular}{r|llllllllllllllllll}\n",
       "  & Sample-100 & Sample-17 & Sample-19 & Sample-22 & Sample-27 & Sample-33 & Sample-37 & Sample-43 & Sample-45 & Sample-46 & Sample-47 & Sample-50 & Sample-52 & Sample-58 & Sample-66 & Sample-82 & Sample-90 & Sample-96\\\\\n",
       "  & <dbl> & <dbl> & <dbl> & <dbl> & <dbl> & <dbl> & <dbl> & <dbl> & <dbl> & <dbl> & <dbl> & <dbl> & <dbl> & <dbl> & <dbl> & <dbl> & <dbl> & <dbl>\\\\\n",
       "\\hline\n",
       "\tAst & 0.101420765 & 0.066104820 & 0.103968514 & 0.05344045 & 0.146641691 & 0.06955871 & 0.07795560 & 0.058117890 & 0.030951876 & 0.026948711 & 0.13794244 & 0.10768072 & 0.049742710 & 0.08816210 & 0.06524773 & 0.05778302 & 0.113323124 & 0.060165511\\\\\n",
       "\tExc & 0.121092896 & 0.062154332 & 0.185962611 & 0.04889976 & 0.074926412 & 0.18324607 & 0.25425916 & 0.143743537 & 0.058299767 & 0.111851637 & 0.10651671 & 0.10993976 & 0.008919383 & 0.01279772 & 0.05163992 & 0.06603774 & 0.030627871 & 0.143592038\\\\\n",
       "\tInh & 0.092677596 & 0.050566237 & 0.102656609 & 0.01851205 & 0.180626171 & 0.16379955 & 0.17010842 & 0.094519131 & 0.050243799 & 0.078817734 & 0.18458485 & 0.14043675 & 0.003087479 & 0.02097405 & 0.09420796 & 0.17256289 & 0.070826953 & 0.087899799\\\\\n",
       "\tMic & 0.031475410 & 0.067158283 & 0.088225648 & 0.06845966 & 0.101418250 & 0.10134630 & 0.07124419 & 0.057497415 & 0.034131863 & 0.064618951 & 0.08534568 & 0.07793675 & 0.060034305 & 0.05723427 & 0.08967202 & 0.07665094 & 0.070061256 & 0.064415120\\\\\n",
       "\tOli & 0.612896175 & 0.720042139 & 0.457527058 & 0.77401327 & 0.416376773 & 0.40800299 & 0.35828601 & 0.607445708 & 0.797964808 & 0.681541582 & 0.43565994 & 0.47929217 & 0.850085763 & 0.76857448 & 0.64340544 & 0.54048742 & 0.630934150 & 0.599865802\\\\\n",
       "\tOpc & 0.035846995 & 0.032920727 & 0.052804198 & 0.03143556 & 0.074926412 & 0.05160808 & 0.05807950 & 0.035780765 & 0.026711893 & 0.032454361 & 0.03440291 & 0.06438253 & 0.021612350 & 0.03163882 & 0.04954641 & 0.07507862 & 0.080015314 & 0.040035786\\\\\n",
       "\tVas & 0.004590164 & 0.001053463 & 0.008855362 & 0.00523926 & 0.005084292 & 0.02243829 & 0.01006711 & 0.002895553 & 0.001695993 & 0.003767024 & 0.01554747 & 0.02033133 & 0.006518010 & 0.02061856 & 0.00628053 & 0.01139937 & 0.004211332 & 0.004025945\\\\\n",
       "\\end{tabular}\n"
      ],
      "text/markdown": [
       "\n",
       "A data.frame: 7 × 18\n",
       "\n",
       "| <!--/--> | Sample-100 &lt;dbl&gt; | Sample-17 &lt;dbl&gt; | Sample-19 &lt;dbl&gt; | Sample-22 &lt;dbl&gt; | Sample-27 &lt;dbl&gt; | Sample-33 &lt;dbl&gt; | Sample-37 &lt;dbl&gt; | Sample-43 &lt;dbl&gt; | Sample-45 &lt;dbl&gt; | Sample-46 &lt;dbl&gt; | Sample-47 &lt;dbl&gt; | Sample-50 &lt;dbl&gt; | Sample-52 &lt;dbl&gt; | Sample-58 &lt;dbl&gt; | Sample-66 &lt;dbl&gt; | Sample-82 &lt;dbl&gt; | Sample-90 &lt;dbl&gt; | Sample-96 &lt;dbl&gt; |\n",
       "|---|---|---|---|---|---|---|---|---|---|---|---|---|---|---|---|---|---|---|\n",
       "| Ast | 0.101420765 | 0.066104820 | 0.103968514 | 0.05344045 | 0.146641691 | 0.06955871 | 0.07795560 | 0.058117890 | 0.030951876 | 0.026948711 | 0.13794244 | 0.10768072 | 0.049742710 | 0.08816210 | 0.06524773 | 0.05778302 | 0.113323124 | 0.060165511 |\n",
       "| Exc | 0.121092896 | 0.062154332 | 0.185962611 | 0.04889976 | 0.074926412 | 0.18324607 | 0.25425916 | 0.143743537 | 0.058299767 | 0.111851637 | 0.10651671 | 0.10993976 | 0.008919383 | 0.01279772 | 0.05163992 | 0.06603774 | 0.030627871 | 0.143592038 |\n",
       "| Inh | 0.092677596 | 0.050566237 | 0.102656609 | 0.01851205 | 0.180626171 | 0.16379955 | 0.17010842 | 0.094519131 | 0.050243799 | 0.078817734 | 0.18458485 | 0.14043675 | 0.003087479 | 0.02097405 | 0.09420796 | 0.17256289 | 0.070826953 | 0.087899799 |\n",
       "| Mic | 0.031475410 | 0.067158283 | 0.088225648 | 0.06845966 | 0.101418250 | 0.10134630 | 0.07124419 | 0.057497415 | 0.034131863 | 0.064618951 | 0.08534568 | 0.07793675 | 0.060034305 | 0.05723427 | 0.08967202 | 0.07665094 | 0.070061256 | 0.064415120 |\n",
       "| Oli | 0.612896175 | 0.720042139 | 0.457527058 | 0.77401327 | 0.416376773 | 0.40800299 | 0.35828601 | 0.607445708 | 0.797964808 | 0.681541582 | 0.43565994 | 0.47929217 | 0.850085763 | 0.76857448 | 0.64340544 | 0.54048742 | 0.630934150 | 0.599865802 |\n",
       "| Opc | 0.035846995 | 0.032920727 | 0.052804198 | 0.03143556 | 0.074926412 | 0.05160808 | 0.05807950 | 0.035780765 | 0.026711893 | 0.032454361 | 0.03440291 | 0.06438253 | 0.021612350 | 0.03163882 | 0.04954641 | 0.07507862 | 0.080015314 | 0.040035786 |\n",
       "| Vas | 0.004590164 | 0.001053463 | 0.008855362 | 0.00523926 | 0.005084292 | 0.02243829 | 0.01006711 | 0.002895553 | 0.001695993 | 0.003767024 | 0.01554747 | 0.02033133 | 0.006518010 | 0.02061856 | 0.00628053 | 0.01139937 | 0.004211332 | 0.004025945 |\n",
       "\n"
      ],
      "text/plain": [
       "    Sample-100  Sample-17   Sample-19   Sample-22  Sample-27   Sample-33 \n",
       "Ast 0.101420765 0.066104820 0.103968514 0.05344045 0.146641691 0.06955871\n",
       "Exc 0.121092896 0.062154332 0.185962611 0.04889976 0.074926412 0.18324607\n",
       "Inh 0.092677596 0.050566237 0.102656609 0.01851205 0.180626171 0.16379955\n",
       "Mic 0.031475410 0.067158283 0.088225648 0.06845966 0.101418250 0.10134630\n",
       "Oli 0.612896175 0.720042139 0.457527058 0.77401327 0.416376773 0.40800299\n",
       "Opc 0.035846995 0.032920727 0.052804198 0.03143556 0.074926412 0.05160808\n",
       "Vas 0.004590164 0.001053463 0.008855362 0.00523926 0.005084292 0.02243829\n",
       "    Sample-37  Sample-43   Sample-45   Sample-46   Sample-47  Sample-50 \n",
       "Ast 0.07795560 0.058117890 0.030951876 0.026948711 0.13794244 0.10768072\n",
       "Exc 0.25425916 0.143743537 0.058299767 0.111851637 0.10651671 0.10993976\n",
       "Inh 0.17010842 0.094519131 0.050243799 0.078817734 0.18458485 0.14043675\n",
       "Mic 0.07124419 0.057497415 0.034131863 0.064618951 0.08534568 0.07793675\n",
       "Oli 0.35828601 0.607445708 0.797964808 0.681541582 0.43565994 0.47929217\n",
       "Opc 0.05807950 0.035780765 0.026711893 0.032454361 0.03440291 0.06438253\n",
       "Vas 0.01006711 0.002895553 0.001695993 0.003767024 0.01554747 0.02033133\n",
       "    Sample-52   Sample-58  Sample-66  Sample-82  Sample-90   Sample-96  \n",
       "Ast 0.049742710 0.08816210 0.06524773 0.05778302 0.113323124 0.060165511\n",
       "Exc 0.008919383 0.01279772 0.05163992 0.06603774 0.030627871 0.143592038\n",
       "Inh 0.003087479 0.02097405 0.09420796 0.17256289 0.070826953 0.087899799\n",
       "Mic 0.060034305 0.05723427 0.08967202 0.07665094 0.070061256 0.064415120\n",
       "Oli 0.850085763 0.76857448 0.64340544 0.54048742 0.630934150 0.599865802\n",
       "Opc 0.021612350 0.03163882 0.04954641 0.07507862 0.080015314 0.040035786\n",
       "Vas 0.006518010 0.02061856 0.00628053 0.01139937 0.004211332 0.004025945"
      ]
     },
     "metadata": {},
     "output_type": "display_data"
    }
   ],
   "source": [
    "key_df"
   ]
  },
  {
   "cell_type": "code",
   "execution_count": 13,
   "id": "c18942b9-9dee-48b3-b939-03c78c381e4f",
   "metadata": {},
   "outputs": [
    {
     "data": {
      "text/html": [
       "<table class=\"dataframe\">\n",
       "<caption>A data.frame: 7 × 18</caption>\n",
       "<thead>\n",
       "\t<tr><th></th><th scope=col>Sample-100</th><th scope=col>Sample-17</th><th scope=col>Sample-19</th><th scope=col>Sample-22</th><th scope=col>Sample-27</th><th scope=col>Sample-33</th><th scope=col>Sample-37</th><th scope=col>Sample-43</th><th scope=col>Sample-45</th><th scope=col>Sample-46</th><th scope=col>Sample-47</th><th scope=col>Sample-50</th><th scope=col>Sample-52</th><th scope=col>Sample-58</th><th scope=col>Sample-66</th><th scope=col>Sample-82</th><th scope=col>Sample-90</th><th scope=col>Sample-96</th></tr>\n",
       "\t<tr><th></th><th scope=col>&lt;dbl&gt;</th><th scope=col>&lt;dbl&gt;</th><th scope=col>&lt;dbl&gt;</th><th scope=col>&lt;dbl&gt;</th><th scope=col>&lt;dbl&gt;</th><th scope=col>&lt;dbl&gt;</th><th scope=col>&lt;dbl&gt;</th><th scope=col>&lt;dbl&gt;</th><th scope=col>&lt;dbl&gt;</th><th scope=col>&lt;dbl&gt;</th><th scope=col>&lt;dbl&gt;</th><th scope=col>&lt;dbl&gt;</th><th scope=col>&lt;dbl&gt;</th><th scope=col>&lt;dbl&gt;</th><th scope=col>&lt;dbl&gt;</th><th scope=col>&lt;dbl&gt;</th><th scope=col>&lt;dbl&gt;</th><th scope=col>&lt;dbl&gt;</th></tr>\n",
       "</thead>\n",
       "<tbody>\n",
       "\t<tr><th scope=row>Ast</th><td>0.1019724161</td><td>0.05397435</td><td>0.08147405</td><td>0.06489210</td><td>0.129981812</td><td>0.06983153</td><td>0.04097529</td><td>0.04107560</td><td>0.02060750</td><td>0.011778913</td><td>0.06740937</td><td>0.114738571</td><td>0.02992109</td><td>0.06645950</td><td>0.08835356</td><td>0.0645144744</td><td>0.12096802</td><td>0.052195381</td></tr>\n",
       "\t<tr><th scope=row>Exc</th><td>0.4781085819</td><td>0.31011830</td><td>0.50274168</td><td>0.07525710</td><td>0.295042459</td><td>0.52358188</td><td>0.72812214</td><td>0.59428008</td><td>0.34127345</td><td>0.555610974</td><td>0.55632109</td><td>0.452072738</td><td>0.06342149</td><td>0.10724661</td><td>0.35557462</td><td>0.2723616235</td><td>0.18777089</td><td>0.459021936</td></tr>\n",
       "\t<tr><th scope=row>Inh</th><td>0.1516092345</td><td>0.14584745</td><td>0.14538159</td><td>0.08693398</td><td>0.252239544</td><td>0.15284373</td><td>0.14169252</td><td>0.12005850</td><td>0.14607580</td><td>0.126778569</td><td>0.25069301</td><td>0.221879235</td><td>0.05575312</td><td>0.09662061</td><td>0.21274068</td><td>0.1801526177</td><td>0.10827043</td><td>0.120982357</td></tr>\n",
       "\t<tr><th scope=row>Mic</th><td>0.0041412176</td><td>0.04654077</td><td>0.04159317</td><td>0.07576407</td><td>0.058223088</td><td>0.02298751</td><td>0.00000000</td><td>0.01531999</td><td>0.02724900</td><td>0.014759726</td><td>0.01290725</td><td>0.002964027</td><td>0.05292988</td><td>0.04576176</td><td>0.04203837</td><td>0.0591538653</td><td>0.05113585</td><td>0.026037909</td></tr>\n",
       "\t<tr><th scope=row>Oli</th><td>0.2469757759</td><td>0.37476105</td><td>0.17917654</td><td>0.62681333</td><td>0.187688983</td><td>0.15480276</td><td>0.05130252</td><td>0.19467219</td><td>0.41190787</td><td>0.250153003</td><td>0.08711823</td><td>0.143663634</td><td>0.73413244</td><td>0.62021507</td><td>0.26387340</td><td>0.3091606089</td><td>0.40458833</td><td>0.296800754</td></tr>\n",
       "\t<tr><th scope=row>Opc</th><td>0.0165310276</td><td>0.03484840</td><td>0.04963297</td><td>0.04826238</td><td>0.074481147</td><td>0.07595259</td><td>0.03790753</td><td>0.02335874</td><td>0.02950492</td><td>0.035418186</td><td>0.02555105</td><td>0.064681794</td><td>0.03051434</td><td>0.04028946</td><td>0.03741937</td><td>0.1136619769</td><td>0.12726647</td><td>0.038412055</td></tr>\n",
       "\t<tr><th scope=row>Vas</th><td>0.0006617464</td><td>0.03390967</td><td>0.00000000</td><td>0.02207704</td><td>0.002342966</td><td>0.00000000</td><td>0.00000000</td><td>0.01123490</td><td>0.02338148</td><td>0.005500627</td><td>0.00000000</td><td>0.000000000</td><td>0.03332763</td><td>0.02340699</td><td>0.00000000</td><td>0.0009948334</td><td>0.00000000</td><td>0.006549608</td></tr>\n",
       "</tbody>\n",
       "</table>\n"
      ],
      "text/latex": [
       "A data.frame: 7 × 18\n",
       "\\begin{tabular}{r|llllllllllllllllll}\n",
       "  & Sample-100 & Sample-17 & Sample-19 & Sample-22 & Sample-27 & Sample-33 & Sample-37 & Sample-43 & Sample-45 & Sample-46 & Sample-47 & Sample-50 & Sample-52 & Sample-58 & Sample-66 & Sample-82 & Sample-90 & Sample-96\\\\\n",
       "  & <dbl> & <dbl> & <dbl> & <dbl> & <dbl> & <dbl> & <dbl> & <dbl> & <dbl> & <dbl> & <dbl> & <dbl> & <dbl> & <dbl> & <dbl> & <dbl> & <dbl> & <dbl>\\\\\n",
       "\\hline\n",
       "\tAst & 0.1019724161 & 0.05397435 & 0.08147405 & 0.06489210 & 0.129981812 & 0.06983153 & 0.04097529 & 0.04107560 & 0.02060750 & 0.011778913 & 0.06740937 & 0.114738571 & 0.02992109 & 0.06645950 & 0.08835356 & 0.0645144744 & 0.12096802 & 0.052195381\\\\\n",
       "\tExc & 0.4781085819 & 0.31011830 & 0.50274168 & 0.07525710 & 0.295042459 & 0.52358188 & 0.72812214 & 0.59428008 & 0.34127345 & 0.555610974 & 0.55632109 & 0.452072738 & 0.06342149 & 0.10724661 & 0.35557462 & 0.2723616235 & 0.18777089 & 0.459021936\\\\\n",
       "\tInh & 0.1516092345 & 0.14584745 & 0.14538159 & 0.08693398 & 0.252239544 & 0.15284373 & 0.14169252 & 0.12005850 & 0.14607580 & 0.126778569 & 0.25069301 & 0.221879235 & 0.05575312 & 0.09662061 & 0.21274068 & 0.1801526177 & 0.10827043 & 0.120982357\\\\\n",
       "\tMic & 0.0041412176 & 0.04654077 & 0.04159317 & 0.07576407 & 0.058223088 & 0.02298751 & 0.00000000 & 0.01531999 & 0.02724900 & 0.014759726 & 0.01290725 & 0.002964027 & 0.05292988 & 0.04576176 & 0.04203837 & 0.0591538653 & 0.05113585 & 0.026037909\\\\\n",
       "\tOli & 0.2469757759 & 0.37476105 & 0.17917654 & 0.62681333 & 0.187688983 & 0.15480276 & 0.05130252 & 0.19467219 & 0.41190787 & 0.250153003 & 0.08711823 & 0.143663634 & 0.73413244 & 0.62021507 & 0.26387340 & 0.3091606089 & 0.40458833 & 0.296800754\\\\\n",
       "\tOpc & 0.0165310276 & 0.03484840 & 0.04963297 & 0.04826238 & 0.074481147 & 0.07595259 & 0.03790753 & 0.02335874 & 0.02950492 & 0.035418186 & 0.02555105 & 0.064681794 & 0.03051434 & 0.04028946 & 0.03741937 & 0.1136619769 & 0.12726647 & 0.038412055\\\\\n",
       "\tVas & 0.0006617464 & 0.03390967 & 0.00000000 & 0.02207704 & 0.002342966 & 0.00000000 & 0.00000000 & 0.01123490 & 0.02338148 & 0.005500627 & 0.00000000 & 0.000000000 & 0.03332763 & 0.02340699 & 0.00000000 & 0.0009948334 & 0.00000000 & 0.006549608\\\\\n",
       "\\end{tabular}\n"
      ],
      "text/markdown": [
       "\n",
       "A data.frame: 7 × 18\n",
       "\n",
       "| <!--/--> | Sample-100 &lt;dbl&gt; | Sample-17 &lt;dbl&gt; | Sample-19 &lt;dbl&gt; | Sample-22 &lt;dbl&gt; | Sample-27 &lt;dbl&gt; | Sample-33 &lt;dbl&gt; | Sample-37 &lt;dbl&gt; | Sample-43 &lt;dbl&gt; | Sample-45 &lt;dbl&gt; | Sample-46 &lt;dbl&gt; | Sample-47 &lt;dbl&gt; | Sample-50 &lt;dbl&gt; | Sample-52 &lt;dbl&gt; | Sample-58 &lt;dbl&gt; | Sample-66 &lt;dbl&gt; | Sample-82 &lt;dbl&gt; | Sample-90 &lt;dbl&gt; | Sample-96 &lt;dbl&gt; |\n",
       "|---|---|---|---|---|---|---|---|---|---|---|---|---|---|---|---|---|---|---|\n",
       "| Ast | 0.1019724161 | 0.05397435 | 0.08147405 | 0.06489210 | 0.129981812 | 0.06983153 | 0.04097529 | 0.04107560 | 0.02060750 | 0.011778913 | 0.06740937 | 0.114738571 | 0.02992109 | 0.06645950 | 0.08835356 | 0.0645144744 | 0.12096802 | 0.052195381 |\n",
       "| Exc | 0.4781085819 | 0.31011830 | 0.50274168 | 0.07525710 | 0.295042459 | 0.52358188 | 0.72812214 | 0.59428008 | 0.34127345 | 0.555610974 | 0.55632109 | 0.452072738 | 0.06342149 | 0.10724661 | 0.35557462 | 0.2723616235 | 0.18777089 | 0.459021936 |\n",
       "| Inh | 0.1516092345 | 0.14584745 | 0.14538159 | 0.08693398 | 0.252239544 | 0.15284373 | 0.14169252 | 0.12005850 | 0.14607580 | 0.126778569 | 0.25069301 | 0.221879235 | 0.05575312 | 0.09662061 | 0.21274068 | 0.1801526177 | 0.10827043 | 0.120982357 |\n",
       "| Mic | 0.0041412176 | 0.04654077 | 0.04159317 | 0.07576407 | 0.058223088 | 0.02298751 | 0.00000000 | 0.01531999 | 0.02724900 | 0.014759726 | 0.01290725 | 0.002964027 | 0.05292988 | 0.04576176 | 0.04203837 | 0.0591538653 | 0.05113585 | 0.026037909 |\n",
       "| Oli | 0.2469757759 | 0.37476105 | 0.17917654 | 0.62681333 | 0.187688983 | 0.15480276 | 0.05130252 | 0.19467219 | 0.41190787 | 0.250153003 | 0.08711823 | 0.143663634 | 0.73413244 | 0.62021507 | 0.26387340 | 0.3091606089 | 0.40458833 | 0.296800754 |\n",
       "| Opc | 0.0165310276 | 0.03484840 | 0.04963297 | 0.04826238 | 0.074481147 | 0.07595259 | 0.03790753 | 0.02335874 | 0.02950492 | 0.035418186 | 0.02555105 | 0.064681794 | 0.03051434 | 0.04028946 | 0.03741937 | 0.1136619769 | 0.12726647 | 0.038412055 |\n",
       "| Vas | 0.0006617464 | 0.03390967 | 0.00000000 | 0.02207704 | 0.002342966 | 0.00000000 | 0.00000000 | 0.01123490 | 0.02338148 | 0.005500627 | 0.00000000 | 0.000000000 | 0.03332763 | 0.02340699 | 0.00000000 | 0.0009948334 | 0.00000000 | 0.006549608 |\n",
       "\n"
      ],
      "text/plain": [
       "    Sample-100   Sample-17  Sample-19  Sample-22  Sample-27   Sample-33 \n",
       "Ast 0.1019724161 0.05397435 0.08147405 0.06489210 0.129981812 0.06983153\n",
       "Exc 0.4781085819 0.31011830 0.50274168 0.07525710 0.295042459 0.52358188\n",
       "Inh 0.1516092345 0.14584745 0.14538159 0.08693398 0.252239544 0.15284373\n",
       "Mic 0.0041412176 0.04654077 0.04159317 0.07576407 0.058223088 0.02298751\n",
       "Oli 0.2469757759 0.37476105 0.17917654 0.62681333 0.187688983 0.15480276\n",
       "Opc 0.0165310276 0.03484840 0.04963297 0.04826238 0.074481147 0.07595259\n",
       "Vas 0.0006617464 0.03390967 0.00000000 0.02207704 0.002342966 0.00000000\n",
       "    Sample-37  Sample-43  Sample-45  Sample-46   Sample-47  Sample-50  \n",
       "Ast 0.04097529 0.04107560 0.02060750 0.011778913 0.06740937 0.114738571\n",
       "Exc 0.72812214 0.59428008 0.34127345 0.555610974 0.55632109 0.452072738\n",
       "Inh 0.14169252 0.12005850 0.14607580 0.126778569 0.25069301 0.221879235\n",
       "Mic 0.00000000 0.01531999 0.02724900 0.014759726 0.01290725 0.002964027\n",
       "Oli 0.05130252 0.19467219 0.41190787 0.250153003 0.08711823 0.143663634\n",
       "Opc 0.03790753 0.02335874 0.02950492 0.035418186 0.02555105 0.064681794\n",
       "Vas 0.00000000 0.01123490 0.02338148 0.005500627 0.00000000 0.000000000\n",
       "    Sample-52  Sample-58  Sample-66  Sample-82    Sample-90  Sample-96  \n",
       "Ast 0.02992109 0.06645950 0.08835356 0.0645144744 0.12096802 0.052195381\n",
       "Exc 0.06342149 0.10724661 0.35557462 0.2723616235 0.18777089 0.459021936\n",
       "Inh 0.05575312 0.09662061 0.21274068 0.1801526177 0.10827043 0.120982357\n",
       "Mic 0.05292988 0.04576176 0.04203837 0.0591538653 0.05113585 0.026037909\n",
       "Oli 0.73413244 0.62021507 0.26387340 0.3091606089 0.40458833 0.296800754\n",
       "Opc 0.03051434 0.04028946 0.03741937 0.1136619769 0.12726647 0.038412055\n",
       "Vas 0.03332763 0.02340699 0.00000000 0.0009948334 0.00000000 0.006549608"
      ]
     },
     "metadata": {},
     "output_type": "display_data"
    }
   ],
   "source": [
    "prd_df"
   ]
  },
  {
   "cell_type": "code",
   "execution_count": null,
   "id": "94bdaedc-4561-4c44-8c0f-51bcaa7f54d6",
   "metadata": {},
   "outputs": [],
   "source": []
  }
 ],
 "metadata": {
  "kernelspec": {
   "display_name": "R",
   "language": "R",
   "name": "ir"
  },
  "language_info": {
   "codemirror_mode": "r",
   "file_extension": ".r",
   "mimetype": "text/x-r-source",
   "name": "R",
   "pygments_lexer": "r",
   "version": "4.2.3"
  }
 },
 "nbformat": 4,
 "nbformat_minor": 5
}
