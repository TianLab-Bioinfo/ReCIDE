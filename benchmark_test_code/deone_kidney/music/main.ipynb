{
 "cells": [
  {
   "cell_type": "code",
   "execution_count": 10,
   "id": "c8e0f77e-6bf4-49f7-8a1f-b844c3971eb2",
   "metadata": {
    "tags": []
   },
   "outputs": [],
   "source": [
    "library(dplyr)\n",
    "library(MuSiC) %>% suppressMessages()\n",
    "library(fastSave) %>% suppressMessages()\n",
    "library(pbmcapply) %>% suppressMessages()\n",
    "library(Seurat) %>% suppressMessages()\n",
    "library(SingleCellExperiment) %>% suppressMessages()"
   ]
  },
  {
   "cell_type": "code",
   "execution_count": 11,
   "id": "62e2f42a-5524-426a-9c46-a3fb5859fd43",
   "metadata": {},
   "outputs": [],
   "source": [
    "# load(\"~/代表性方法测试/BayesPrism/tutorial/tutorial.gbm.rdata\")\n",
    "combine.dgedata_150=readRDS.lbzip2('~/ReCIDE/benchmark测试/deone_kidney/ref_data/ref_all.rdsFS',n.cores = 200)\n",
    "patient_names=unique(combine.dgedata_150@meta.data['patient'])\n"
   ]
  },
  {
   "cell_type": "code",
   "execution_count": 20,
   "id": "6a9a6a50-b88b-47a2-916c-d824aaa6298a",
   "metadata": {
    "collapsed": true,
    "jupyter": {
     "outputs_hidden": true,
     "source_hidden": true
    },
    "tags": []
   },
   "outputs": [
    {
     "name": "stdout",
     "output_type": "stream",
     "text": [
      "[1] \"第 1 个\"\n",
      "[1] \"第 2 个\"\n",
      "[1] \"第 3 个\"\n"
     ]
    },
    {
     "ename": "ERROR",
     "evalue": "Error in names(music_results) <- names(combine.dgedata_150.list): 'names' attribute [43] must be the same length as the vector [3]\n",
     "output_type": "error",
     "traceback": [
      "Error in names(music_results) <- names(combine.dgedata_150.list): 'names' attribute [43] must be the same length as the vector [3]\nTraceback:\n"
     ]
    }
   ],
   "source": [
    "\n",
    "music_results=list()\n",
    "for(i in 1:3){\n",
    "  print(paste('第',i,'个'))\n",
    "  bulk_seurat<-subset(combine.dgedata_150,patient == names(combine.dgedata_150.list)[i])\n",
    "    \n",
    "  sc_seurat<-subset(combine.dgedata_150,patient != names(combine.dgedata_150.list)[i])\n",
    "  sc_seurat=sc_seurat[row.names(ref_com.FC_screen[[i]]),]\n",
    "\n",
    "  bulk.mtx<-as.matrix(apply(as.data.frame(bulk_seurat@assays[[\"RNA\"]]@counts),1,sum))\n",
    "  bulk.mtx<-cbind(bulk.mtx,bulk.mtx)\n",
    "  \n",
    "  \n",
    "  #单细胞参考集是sce的形式\n",
    "  sce <- SingleCellExperiment(as.matrix(sc_seurat@assays$RNA@counts),\n",
    "                              colData=DataFrame(label=sc_seurat@meta.data),\n",
    "                              rowData=DataFrame(length=row.names(sc_seurat@assays$RNA@counts)))\n",
    "  names(assays(sce))<-'counts'\n",
    "  \n",
    "  #在music前要先确定bulk和sc是否只有一列，只有一列的话无法运行（包括sample和cluster数是否为1）\n",
    "  music_results[[i]] = music_prop(bulk.mtx = bulk.mtx, sc.sce = sce, clusters = 'label.subclass.l1',\n",
    "                                samples = 'label.patient',verbose = F)\n",
    "}\n",
    "\n",
    "names(music_results)<-names(combine.dgedata_150.list)\n",
    "\n"
   ]
  },
  {
   "cell_type": "code",
   "execution_count": 15,
   "id": "302a5415-2a9d-49bd-bf55-520b5b6c037c",
   "metadata": {
    "tags": []
   },
   "outputs": [],
   "source": [
    "\n",
    "func_mu<-function(i){\n",
    "  print(paste('第',i,'个'))\n",
    "  bulk_seurat<-subset(combine.dgedata_150,patient == patient_names[i,1])\n",
    "    \n",
    "  sc_seurat<-subset(combine.dgedata_150,patient != patient_names[i,1])\n",
    "\n",
    "  bulk.mtx<-as.matrix(apply(as.data.frame(bulk_seurat@assays[[\"RNA\"]]@counts),1,sum))\n",
    "  bulk.mtx<-cbind(bulk.mtx,bulk.mtx)\n",
    "  \n",
    "  \n",
    "  #单细胞参考集是sce的形式\n",
    "  sce <- SingleCellExperiment(as.matrix(sc_seurat@assays$RNA@counts),\n",
    "                              colData=DataFrame(label=sc_seurat@meta.data),\n",
    "                              rowData=DataFrame(length=row.names(sc_seurat@assays$RNA@counts)))\n",
    "  names(assays(sce))<-'counts'\n",
    "  \n",
    "  #在music前要先确定bulk和sc是否只有一列，只有一列的话无法运行（包括sample和cluster数是否为1）\n",
    "  music_results_in = music_prop(bulk.mtx = bulk.mtx, sc.sce = sce, clusters = 'label.subclass.l1',\n",
    "                                samples = 'label.patient',verbose = F)\n",
    "    return(music_results_in)\n",
    "}\n",
    "music_results=pbmclapply(1:nrow(patient_names),func_mu,mc.cores=4)\n",
    "names(music_results)<-patient_names[,1]"
   ]
  },
  {
   "cell_type": "code",
   "execution_count": 17,
   "id": "bad82932-6624-4d83-a358-abe0d2e8ed59",
   "metadata": {},
   "outputs": [],
   "source": [
    "saveRDS(music_results,file='~/ReCIDE/benchmark测试/deone_kidney/music/music_tutorial/music_output_parallel.rds')"
   ]
  },
  {
   "cell_type": "code",
   "execution_count": 27,
   "id": "87d77ebd-1a1f-441c-893d-fe9a73de8ec8",
   "metadata": {},
   "outputs": [],
   "source": [
    "music_results=readRDS('~/ReCIDE/benchmark测试/deone_kidney/music/music_tutorial/music_output_parallel.rds')"
   ]
  },
  {
   "cell_type": "code",
   "execution_count": 28,
   "id": "6acfe43f-9c85-4356-9192-76be1a73c164",
   "metadata": {},
   "outputs": [],
   "source": [
    "###结果整合\n",
    "for (i in 1:length(music_results)) {\n",
    "  music_results[[i]]<-music_results[[i]][['Est.prop.weighted']][1,]\n",
    "}\n",
    "prd<-music_results\n",
    "\n",
    "df_merge<-as.data.frame(prd[[1]])\n",
    "colnames(df_merge)[1]<-names(prd)[1]\n",
    "\n",
    "for(j in 2:length(prd)){\n",
    "  \n",
    "  prd[[j]]<-as.data.frame(prd[[j]])\n",
    "  df_merge<-merge(df_merge, prd[[j]], by = \"row.names\", all = TRUE)\n",
    "  row.names(df_merge)<-df_merge[,1]\n",
    "  df_merge<-df_merge[,-1]\n",
    "  colnames(df_merge)[j]<-names(prd)[j]\n",
    "}\n",
    "\n",
    "\n",
    "\n",
    "df_merge<-as.data.frame(df_merge)\n",
    "df_merge<-df_merge[,sort(colnames(df_merge))]\n",
    "df_merge<-df_merge[sort(row.names(df_merge)),]\n",
    "prd_df=df_merge"
   ]
  },
  {
   "cell_type": "code",
   "execution_count": 12,
   "id": "474dce07-9d64-4390-9cf9-8e5a3f50f01f",
   "metadata": {},
   "outputs": [
    {
     "data": {
      "text/html": [
       "0.0382322282390508"
      ],
      "text/latex": [
       "0.0382322282390508"
      ],
      "text/markdown": [
       "0.0382322282390508"
      ],
      "text/plain": [
       "[1] 0.03823223"
      ]
     },
     "metadata": {},
     "output_type": "display_data"
    }
   ],
   "source": [
    "key_df <- readRDS(\"~/ReCIDE/benchmark测试/deone_kidney/EXP_and_KEY/KEY_kidney.rds\")\n",
    "key_df=key_df[sort(row.names(key_df)),sort(colnames(key_df))]\n",
    "\n",
    "\n",
    "RMSE_vec=c()\n",
    "for(i in 1:length(key_df)){\n",
    "  RMSE_vec[i]=ModelMetrics::rmse(key_df[,i],prd_df[,i])\n",
    "  # RMSE_vec[i]=cor(key_df[,i],prd_df[,i])\n",
    "  \n",
    "}\n",
    "mean(RMSE_vec)"
   ]
  },
  {
   "cell_type": "code",
   "execution_count": 29,
   "id": "72c844da-376f-467f-b7b9-742846ec18ec",
   "metadata": {},
   "outputs": [],
   "source": [
    "saveRDS(prd_df,file='/home/lmh/ReCIDE/benchmark测试/deone_kidney/music/music_tutorial/prd_music_df.rds')"
   ]
  },
  {
   "cell_type": "code",
   "execution_count": null,
   "id": "6c1ca598-ea46-4abf-8b5f-2d04bba10aea",
   "metadata": {},
   "outputs": [],
   "source": []
  }
 ],
 "metadata": {
  "kernelspec": {
   "display_name": "R",
   "language": "R",
   "name": "ir"
  },
  "language_info": {
   "codemirror_mode": "r",
   "file_extension": ".r",
   "mimetype": "text/x-r-source",
   "name": "R",
   "pygments_lexer": "r",
   "version": "4.3.1"
  }
 },
 "nbformat": 4,
 "nbformat_minor": 5
}
