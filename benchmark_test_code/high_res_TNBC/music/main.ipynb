{
 "cells": [
  {
   "cell_type": "code",
   "execution_count": 16,
   "id": "c8e0f77e-6bf4-49f7-8a1f-b844c3971eb2",
   "metadata": {
    "tags": []
   },
   "outputs": [],
   "source": [
    "library(dplyr)\n",
    "library(MuSiC) %>% suppressMessages()\n",
    "library(fastSave) %>% suppressMessages()\n",
    "library(pbmcapply) %>% suppressMessages()\n",
    "library(Seurat) %>% suppressMessages()\n",
    "library(SingleCellExperiment) %>% suppressMessages()"
   ]
  },
  {
   "cell_type": "code",
   "execution_count": 17,
   "id": "62e2f42a-5524-426a-9c46-a3fb5859fd43",
   "metadata": {},
   "outputs": [],
   "source": [
    "# load(\"~/代表性方法测试/BayesPrism/tutorial/tutorial.gbm.rdata\")\n",
    "combine.dgedata_150=readRDS.lbzip2('~/ReCIDE/benchmark测试/high_res_TNBC/ref_data/ref_all.rdsFS',n.cores = 200)\n"
   ]
  },
  {
   "cell_type": "code",
   "execution_count": 18,
   "id": "6fd0e420-1c4c-456a-92e8-33a300e3e948",
   "metadata": {},
   "outputs": [],
   "source": [
    "patient_names=unique(combine.dgedata_150@meta.data['batch'])\n"
   ]
  },
  {
   "cell_type": "code",
   "execution_count": 19,
   "id": "6f6391c3-9ab4-4583-b292-cc2147684677",
   "metadata": {},
   "outputs": [
    {
     "data": {
      "text/html": [
       "<table class=\"dataframe\">\n",
       "<caption>A data.frame: 10 × 1</caption>\n",
       "<thead>\n",
       "\t<tr><th></th><th scope=col>batch</th></tr>\n",
       "\t<tr><th></th><th scope=col>&lt;chr&gt;</th></tr>\n",
       "</thead>\n",
       "<tbody>\n",
       "\t<tr><th scope=row>CID44041_AAAGTAGTCCTAGGGC</th><td>CID44041</td></tr>\n",
       "\t<tr><th scope=row>CID4465_AAACGGGTCATCGATG</th><td>CID4465 </td></tr>\n",
       "\t<tr><th scope=row>CID4495_AACCGCGGTTTCCACC</th><td>CID4495 </td></tr>\n",
       "\t<tr><th scope=row>CID44971_AAGCCGCCACGCATCG</th><td>CID44971</td></tr>\n",
       "\t<tr><th scope=row>CID44991_AAACGGGTCCGCATAA</th><td>CID44991</td></tr>\n",
       "\t<tr><th scope=row>CID4513_AACCGCGTCTTGACGA</th><td>CID4513 </td></tr>\n",
       "\t<tr><th scope=row>CID4515_AACTTTCGTGCGAAAC</th><td>CID4515 </td></tr>\n",
       "\t<tr><th scope=row>CID4523_AACTGGTTCCGTTGTC</th><td>CID4523 </td></tr>\n",
       "\t<tr><th scope=row>CID3946_ACTGCAACAGCTACTA</th><td>CID3946 </td></tr>\n",
       "\t<tr><th scope=row>CID3963_AACTCCCCAGCTCGAC</th><td>CID3963 </td></tr>\n",
       "</tbody>\n",
       "</table>\n"
      ],
      "text/latex": [
       "A data.frame: 10 × 1\n",
       "\\begin{tabular}{r|l}\n",
       "  & batch\\\\\n",
       "  & <chr>\\\\\n",
       "\\hline\n",
       "\tCID44041\\_AAAGTAGTCCTAGGGC & CID44041\\\\\n",
       "\tCID4465\\_AAACGGGTCATCGATG & CID4465 \\\\\n",
       "\tCID4495\\_AACCGCGGTTTCCACC & CID4495 \\\\\n",
       "\tCID44971\\_AAGCCGCCACGCATCG & CID44971\\\\\n",
       "\tCID44991\\_AAACGGGTCCGCATAA & CID44991\\\\\n",
       "\tCID4513\\_AACCGCGTCTTGACGA & CID4513 \\\\\n",
       "\tCID4515\\_AACTTTCGTGCGAAAC & CID4515 \\\\\n",
       "\tCID4523\\_AACTGGTTCCGTTGTC & CID4523 \\\\\n",
       "\tCID3946\\_ACTGCAACAGCTACTA & CID3946 \\\\\n",
       "\tCID3963\\_AACTCCCCAGCTCGAC & CID3963 \\\\\n",
       "\\end{tabular}\n"
      ],
      "text/markdown": [
       "\n",
       "A data.frame: 10 × 1\n",
       "\n",
       "| <!--/--> | batch &lt;chr&gt; |\n",
       "|---|---|\n",
       "| CID44041_AAAGTAGTCCTAGGGC | CID44041 |\n",
       "| CID4465_AAACGGGTCATCGATG | CID4465  |\n",
       "| CID4495_AACCGCGGTTTCCACC | CID4495  |\n",
       "| CID44971_AAGCCGCCACGCATCG | CID44971 |\n",
       "| CID44991_AAACGGGTCCGCATAA | CID44991 |\n",
       "| CID4513_AACCGCGTCTTGACGA | CID4513  |\n",
       "| CID4515_AACTTTCGTGCGAAAC | CID4515  |\n",
       "| CID4523_AACTGGTTCCGTTGTC | CID4523  |\n",
       "| CID3946_ACTGCAACAGCTACTA | CID3946  |\n",
       "| CID3963_AACTCCCCAGCTCGAC | CID3963  |\n",
       "\n"
      ],
      "text/plain": [
       "                          batch   \n",
       "CID44041_AAAGTAGTCCTAGGGC CID44041\n",
       "CID4465_AAACGGGTCATCGATG  CID4465 \n",
       "CID4495_AACCGCGGTTTCCACC  CID4495 \n",
       "CID44971_AAGCCGCCACGCATCG CID44971\n",
       "CID44991_AAACGGGTCCGCATAA CID44991\n",
       "CID4513_AACCGCGTCTTGACGA  CID4513 \n",
       "CID4515_AACTTTCGTGCGAAAC  CID4515 \n",
       "CID4523_AACTGGTTCCGTTGTC  CID4523 \n",
       "CID3946_ACTGCAACAGCTACTA  CID3946 \n",
       "CID3963_AACTCCCCAGCTCGAC  CID3963 "
      ]
     },
     "metadata": {},
     "output_type": "display_data"
    }
   ],
   "source": [
    "patient_names"
   ]
  },
  {
   "cell_type": "code",
   "execution_count": 20,
   "id": "302a5415-2a9d-49bd-bf55-520b5b6c037c",
   "metadata": {
    "tags": []
   },
   "outputs": [],
   "source": [
    "\n",
    "func_mu<-function(i){\n",
    "  print(paste('第',i,'个'))\n",
    "  bulk_seurat<-subset(combine.dgedata_150,batch == patient_names[i,1])\n",
    "    \n",
    "  sc_seurat<-subset(combine.dgedata_150,batch != patient_names[i,1])\n",
    "  # sc_seurat=sc_seurat[row.names(ref_com.FC_screen[[i]]),]\n",
    "\n",
    "  bulk.mtx<-as.matrix(apply(as.data.frame(bulk_seurat@assays[[\"RNA\"]]@counts),1,sum))\n",
    "  bulk.mtx<-cbind(bulk.mtx,bulk.mtx)\n",
    "  \n",
    "  \n",
    "  #单细胞参考集是sce的形式\n",
    "  sce <- SingleCellExperiment(as.matrix(sc_seurat@assays$RNA@counts),\n",
    "                              colData=DataFrame(label=sc_seurat@meta.data),\n",
    "                              rowData=DataFrame(length=row.names(sc_seurat@assays$RNA@counts)))\n",
    "  names(assays(sce))<-'counts'\n",
    "  \n",
    "  #在music前要先确定bulk和sc是否只有一列，只有一列的话无法运行（包括sample和cluster数是否为1）\n",
    "  music_results_in = music_prop(bulk.mtx = bulk.mtx, sc.sce = sce, clusters = 'label.celltype_subset',\n",
    "                                samples = 'label.batch',verbose = F)\n",
    "    return(music_results_in)\n",
    "}\n",
    "music_results=pbmclapply(1:nrow(patient_names),func_mu,mc.cores=5)\n",
    "names(music_results)<-patient_names[,1]"
   ]
  },
  {
   "cell_type": "code",
   "execution_count": 21,
   "id": "bad82932-6624-4d83-a358-abe0d2e8ed59",
   "metadata": {},
   "outputs": [],
   "source": [
    "saveRDS(music_results,file='~/ReCIDE/benchmark测试/high_res_TNBC/music/music_tutorial/music_output_parallel.rds')"
   ]
  },
  {
   "cell_type": "code",
   "execution_count": 22,
   "id": "87d77ebd-1a1f-441c-893d-fe9a73de8ec8",
   "metadata": {
    "tags": []
   },
   "outputs": [],
   "source": [
    "music_results=readRDS('~/ReCIDE/benchmark测试/high_res_TNBC/music/music_tutorial/music_output_parallel.rds')"
   ]
  },
  {
   "cell_type": "code",
   "execution_count": 23,
   "id": "6acfe43f-9c85-4356-9192-76be1a73c164",
   "metadata": {},
   "outputs": [],
   "source": [
    "###结果整合\n",
    "for (i in 1:length(music_results)) {\n",
    "  music_results[[i]]<-music_results[[i]][['Est.prop.weighted']][1,]\n",
    "}\n",
    "prd<-music_results\n",
    "\n",
    "df_merge<-as.data.frame(prd[[1]])\n",
    "colnames(df_merge)[1]<-names(prd)[1]\n",
    "\n",
    "for(j in 2:length(prd)){\n",
    "  \n",
    "  prd[[j]]<-as.data.frame(prd[[j]])\n",
    "  df_merge<-merge(df_merge, prd[[j]], by = \"row.names\", all = TRUE)\n",
    "  row.names(df_merge)<-df_merge[,1]\n",
    "  df_merge<-df_merge[,-1]\n",
    "  colnames(df_merge)[j]<-names(prd)[j]\n",
    "}\n",
    "\n",
    "\n",
    "\n",
    "df_merge<-as.data.frame(df_merge)\n",
    "df_merge<-df_merge[,sort(colnames(df_merge))]\n",
    "df_merge<-df_merge[sort(row.names(df_merge)),]\n",
    "prd_df=df_merge"
   ]
  },
  {
   "cell_type": "code",
   "execution_count": 24,
   "id": "474dce07-9d64-4390-9cf9-8e5a3f50f01f",
   "metadata": {},
   "outputs": [
    {
     "data": {
      "text/html": [
       "0.0613563974377527"
      ],
      "text/latex": [
       "0.0613563974377527"
      ],
      "text/markdown": [
       "0.0613563974377527"
      ],
      "text/plain": [
       "[1] 0.0613564"
      ]
     },
     "metadata": {},
     "output_type": "display_data"
    }
   ],
   "source": [
    "key_df <- readRDS(\"~/ReCIDE/benchmark测试/high_res_TNBC/EXP_and_KEY/KEY.rds\")\n",
    "key_df=key_df[sort(row.names(key_df)),sort(colnames(key_df))]\n",
    "\n",
    "\n",
    "RMSE_vec=c()\n",
    "for(i in 1:length(key_df)){\n",
    "  RMSE_vec[i]=ModelMetrics::rmse(key_df[,i],prd_df[,i])\n",
    "  # RMSE_vec[i]=cor(key_df[,i],prd_df[,i])\n",
    "  \n",
    "}\n",
    "mean(RMSE_vec)"
   ]
  },
  {
   "cell_type": "code",
   "execution_count": 25,
   "id": "72c844da-376f-467f-b7b9-742846ec18ec",
   "metadata": {},
   "outputs": [],
   "source": [
    "saveRDS(prd_df,file='~/ReCIDE/benchmark测试/high_res_TNBC/music/music_tutorial/prd_music_df.rds')"
   ]
  },
  {
   "cell_type": "code",
   "execution_count": 1,
   "id": "6c1ca598-ea46-4abf-8b5f-2d04bba10aea",
   "metadata": {},
   "outputs": [
    {
     "data": {
      "text/html": [
       "0.0613563974377527"
      ],
      "text/latex": [
       "0.0613563974377527"
      ],
      "text/markdown": [
       "0.0613563974377527"
      ],
      "text/plain": [
       "[1] 0.0613564"
      ]
     },
     "metadata": {},
     "output_type": "display_data"
    }
   ],
   "source": [
    "\n",
    "key_df <- readRDS(\"~/ReCIDE/benchmark测试/high_res_TNBC/EXP_and_KEY/KEY.rds\")\n",
    "prd_df <- readRDS(\"~/ReCIDE/benchmark测试/high_res_TNBC/music/music_tutorial/prd_music_df.rds\")\n",
    "prd_df[is.na(prd_df)]=0\n",
    "\n",
    "prd_df=prd_df[sort(row.names(prd_df)),sort(colnames(prd_df))]\n",
    "key_df=key_df[sort(row.names(key_df)),sort(colnames(prd_df))]\n",
    "\n",
    "RMSE_vec=c()\n",
    "for(i in 1:ncol(key_df)){\n",
    "  RMSE_vec[i]=ModelMetrics::rmse(as.numeric(key_df[,i]),as.numeric(prd_df[,i]))\n",
    "  # RMSE_vec[i]=cor(key_df[,i],prd_df[,i])\n",
    "  \n",
    "}\n",
    "mean(RMSE_vec)\n",
    "\n"
   ]
  },
  {
   "cell_type": "code",
   "execution_count": null,
   "id": "918f2fc1-0e6c-40ab-b52f-2a78e81188b0",
   "metadata": {},
   "outputs": [],
   "source": []
  }
 ],
 "metadata": {
  "kernelspec": {
   "display_name": "R",
   "language": "R",
   "name": "ir"
  },
  "language_info": {
   "codemirror_mode": "r",
   "file_extension": ".r",
   "mimetype": "text/x-r-source",
   "name": "R",
   "pygments_lexer": "r",
   "version": "4.3.1"
  }
 },
 "nbformat": 4,
 "nbformat_minor": 5
}
