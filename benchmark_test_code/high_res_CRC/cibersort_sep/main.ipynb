{
 "cells": [
  {
   "cell_type": "code",
   "execution_count": 1,
   "id": "66a98ceb-9a89-4c96-99b1-3bd6e31f6868",
   "metadata": {},
   "outputs": [
    {
     "name": "stderr",
     "output_type": "stream",
     "text": [
      "Loading required package: parallel\n",
      "\n",
      "\n",
      "Attaching package: ‘dplyr’\n",
      "\n",
      "\n",
      "The following objects are masked from ‘package:stats’:\n",
      "\n",
      "    filter, lag\n",
      "\n",
      "\n",
      "The following objects are masked from ‘package:base’:\n",
      "\n",
      "    intersect, setdiff, setequal, union\n",
      "\n",
      "\n",
      "Warning message:\n",
      "“package ‘mclust’ was built under R version 4.3.2”\n"
     ]
    }
   ],
   "source": [
    "library(pbmcapply)\n",
    "library(dplyr)\n",
    "source(\"~/ReCIDE/ReCIDE_main/先PCA再层次聚类.R\")\n",
    "source('~/ReCIDE/ReCIDE_main/cosine_screen.R')\n",
    "####sepPFC\n",
    "sep_ref.list<- readRDS(\"~/ReCIDE/benchmark测试/high_res_CRC/ref_data/CRC_high_res_sep_sig.rds\")\n",
    "EXP<- readRDS(\"~/ReCIDE/benchmark测试/high_res_CRC/EXP_and_KEY/EXP.rds\")\n",
    "source(\"~/SWORD/其他模型benchmark测试/CIBERSORT_results/Cibersort.R\")"
   ]
  },
  {
   "cell_type": "code",
   "execution_count": 2,
   "id": "6f469c9f-3b76-4c3f-9906-a6d2fff3cec4",
   "metadata": {},
   "outputs": [],
   "source": [
    "\n",
    "sep_solFAR<-list()\n",
    "\n",
    "for (i in 1:length(EXP)){\n",
    "  \n",
    "  bulk<-EXP[[i]]\n",
    "  ref.list_in<-sep_ref.list\n",
    "  ref.list_in[[names(EXP)[i]]]<-NULL\n",
    "  \n",
    "  # sep_ref.list<-ALLPAN_Signature[[names(EXP)[i]]]\n",
    "  # sep_ref.list=sample(sep_ref.list, 110, replace = FALSE, prob = NULL)\n",
    "  \n",
    "  ##根据细胞类型数筛选一次\n",
    "  \n",
    "  CB_results_in<-list()\n",
    "  fun_FAR_in<-function(j){\n",
    "    ##dwls??????dataframe?????????matrix\n",
    "    ref1<-as.matrix(ref.list_in[[j]])\n",
    "    \n",
    "    # batch_output<-cosine_screen_HighToLow(ref1,bulk)\n",
    "    batch_output<-cosine_screen_LowToHigh(ref1,bulk)\n",
    "    # batch_output<-cosine_screen_GA(ref1,bulk)\n",
    "    tr <- batch_output[[2]]\n",
    "    # tr<-trimData(ref1,bulk)\n",
    "    query_df=as.data.frame(tr[[2]])\n",
    "    query_df=cbind(query_df,query_df)\n",
    "    \n",
    "    ref_df=as.data.frame(tr[[1]])\n",
    "    CB_results_in<-CIBERSORT(ref_df,query_df,perm = 100,QN=TRUE)\n",
    "    \n",
    "    return(CB_results_in)\n",
    "  }\n",
    "  \n",
    "  sep_solFAR[[i]]<-pbmclapply(1:length(ref.list_in),fun_FAR_in,mc.cores = 60)\n",
    "  names(sep_solFAR[[i]])=names(ref.list_in)\n",
    "  \n",
    "}\n",
    "names(sep_solFAR)<-names(EXP)\n",
    "\n",
    "saveRDS(sep_solFAR,file='~/ReCIDE/benchmark测试/high_res_CRC/cibersort_sep/sep_CIBERSORT_output_LowToHigh.rds')\n"
   ]
  },
  {
   "cell_type": "code",
   "execution_count": null,
   "id": "29d1dec2-03be-4478-835d-e8327e97a444",
   "metadata": {},
   "outputs": [],
   "source": []
  }
 ],
 "metadata": {
  "kernelspec": {
   "display_name": "R",
   "language": "R",
   "name": "ir"
  },
  "language_info": {
   "codemirror_mode": "r",
   "file_extension": ".r",
   "mimetype": "text/x-r-source",
   "name": "R",
   "pygments_lexer": "r",
   "version": "4.3.1"
  }
 },
 "nbformat": 4,
 "nbformat_minor": 5
}
