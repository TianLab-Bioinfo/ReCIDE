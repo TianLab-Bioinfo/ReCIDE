{
 "cells": [
  {
   "cell_type": "code",
   "execution_count": 12,
   "id": "4e6a43c4-24a4-4c77-8118-e65f30d00eaa",
   "metadata": {},
   "outputs": [
    {
     "name": "stderr",
     "output_type": "stream",
     "text": [
      "\n",
      "Attaching package: ‘dplyr’\n",
      "\n",
      "\n",
      "The following objects are masked from ‘package:stats’:\n",
      "\n",
      "    filter, lag\n",
      "\n",
      "\n",
      "The following objects are masked from ‘package:base’:\n",
      "\n",
      "    intersect, setdiff, setequal, union\n",
      "\n",
      "\n"
     ]
    }
   ],
   "source": [
    "library(pbmcapply)\n",
    "library(dplyr)\n",
    "\n",
    "source('~/ReCIDE/ReCIDE_main/cosine_screen.R')\n",
    "####sepPFC\n",
    "sep_ref.list <- readRDS(\"~/ReCIDE/benchmark测试/deone_PAN/ref_data/PFC_sep_sig.rds\")\n",
    "EXP<- readRDS(\"~/ReCIDE/benchmark测试/deone_PAN/EXP_and_KEY/EXP.rds\")\n",
    "source(\"~/SWORD/其他模型benchmark测试/CIBERSORT_results/Cibersort.R\")"
   ]
  },
  {
   "cell_type": "code",
   "execution_count": 13,
   "id": "b76d4025-f433-43b8-b890-866d7d6dee69",
   "metadata": {
    "tags": []
   },
   "outputs": [
    {
     "data": {
      "text/html": [
       "<table class=\"dataframe\">\n",
       "<caption>A matrix: 2 × 6 of type dbl</caption>\n",
       "<thead>\n",
       "\t<tr><th></th><th scope=col>used</th><th scope=col>(Mb)</th><th scope=col>gc trigger</th><th scope=col>(Mb)</th><th scope=col>max used</th><th scope=col>(Mb)</th></tr>\n",
       "</thead>\n",
       "<tbody>\n",
       "\t<tr><th scope=row>Ncells</th><td> 710568</td><td>38.0</td><td>1412588</td><td>75.5</td><td>1412588</td><td>75.5</td></tr>\n",
       "\t<tr><th scope=row>Vcells</th><td>1319257</td><td>10.1</td><td>8388608</td><td>64.0</td><td>8387352</td><td>64.0</td></tr>\n",
       "</tbody>\n",
       "</table>\n"
      ],
      "text/latex": [
       "A matrix: 2 × 6 of type dbl\n",
       "\\begin{tabular}{r|llllll}\n",
       "  & used & (Mb) & gc trigger & (Mb) & max used & (Mb)\\\\\n",
       "\\hline\n",
       "\tNcells &  710568 & 38.0 & 1412588 & 75.5 & 1412588 & 75.5\\\\\n",
       "\tVcells & 1319257 & 10.1 & 8388608 & 64.0 & 8387352 & 64.0\\\\\n",
       "\\end{tabular}\n"
      ],
      "text/markdown": [
       "\n",
       "A matrix: 2 × 6 of type dbl\n",
       "\n",
       "| <!--/--> | used | (Mb) | gc trigger | (Mb) | max used | (Mb) |\n",
       "|---|---|---|---|---|---|---|\n",
       "| Ncells |  710568 | 38.0 | 1412588 | 75.5 | 1412588 | 75.5 |\n",
       "| Vcells | 1319257 | 10.1 | 8388608 | 64.0 | 8387352 | 64.0 |\n",
       "\n"
      ],
      "text/plain": [
       "       used    (Mb) gc trigger (Mb) max used (Mb)\n",
       "Ncells  710568 38.0 1412588    75.5 1412588  75.5\n",
       "Vcells 1319257 10.1 8388608    64.0 8387352  64.0"
      ]
     },
     "metadata": {},
     "output_type": "display_data"
    }
   ],
   "source": [
    "\n",
    "sep_solFAR<-list()\n",
    "\n",
    "for (i in 1:length(EXP)){\n",
    "  \n",
    "  bulk<-EXP[[i]]\n",
    "  ref.list_in<-sep_ref.list\n",
    "  ref.list_in[[names(EXP)[i]]]<-NULL\n",
    "  # sep_ref.list<-ALLPAN_Signature[[names(EXP)[i]]]\n",
    "  # sep_ref.list=sample(sep_ref.list, 110, replace = FALSE, prob = NULL)\n",
    "  \n",
    "  ##根据细胞类型数筛选一次\n",
    "  \n",
    "  fun_FAR_in<-function(j){\n",
    "    ##dwls??????dataframe?????????matrix\n",
    "    ref1<-as.matrix(ref.list_in[[j]])\n",
    "    \n",
    "    # batch_output<-cosine_screen_HighToLow(ref1,bulk)\n",
    "    batch_output<-cosine_screen_LowToHigh(ref1,bulk)\n",
    "    # batch_output<-cosine_screen_GA(ref1,bulk)\n",
    "    tr <- batch_output[[2]]\n",
    "    # tr<-trimData(ref1,bulk)\n",
    "    query_df=as.data.frame(tr[[2]])\n",
    "    query_df=cbind(query_df,query_df)\n",
    "    \n",
    "    ref_df=as.data.frame(tr[[1]])\n",
    "    CB_results_in<-CIBERSORT(ref_df,query_df,perm = 100,QN=TRUE)\n",
    "    \n",
    "    return(CB_results_in)\n",
    "  }\n",
    "  \n",
    "  sep_solFAR[[i]]<-pbmclapply(1:length(ref.list_in),fun_FAR_in,mc.cores = 50)\n",
    "  names(sep_solFAR[[i]])=names(ref.list_in)\n",
    "  \n",
    "}\n",
    "names(sep_solFAR)<-names(EXP)\n",
    "\n",
    "saveRDS(sep_solFAR,file='~/ReCIDE/benchmark测试/deone_PAN/cibersort_sep/sep_CIBERSORT_output_LowToHigh.rds')\n",
    "\n",
    "rm(list=ls())\n",
    "gc()"
   ]
  },
  {
   "cell_type": "code",
   "execution_count": 9,
   "id": "b49aa856-0174-4d8e-807c-eb50683a9a86",
   "metadata": {},
   "outputs": [
    {
     "ename": "ERROR",
     "evalue": "Error in eval(expr, envir, enclos): object 'EXP' not found\n",
     "output_type": "error",
     "traceback": [
      "Error in eval(expr, envir, enclos): object 'EXP' not found\nTraceback:\n"
     ]
    }
   ],
   "source": [
    "EXP"
   ]
  },
  {
   "cell_type": "code",
   "execution_count": null,
   "id": "67d3ef8b-d73a-4da9-855c-8de9439ae687",
   "metadata": {},
   "outputs": [],
   "source": []
  }
 ],
 "metadata": {
  "kernelspec": {
   "display_name": "R",
   "language": "R",
   "name": "ir"
  },
  "language_info": {
   "codemirror_mode": "r",
   "file_extension": ".r",
   "mimetype": "text/x-r-source",
   "name": "R",
   "pygments_lexer": "r",
   "version": "4.3.1"
  }
 },
 "nbformat": 4,
 "nbformat_minor": 5
}
