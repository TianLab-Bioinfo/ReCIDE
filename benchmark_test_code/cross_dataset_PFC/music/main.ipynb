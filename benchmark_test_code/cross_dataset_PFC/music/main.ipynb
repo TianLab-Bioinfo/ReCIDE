{
 "cells": [
  {
   "cell_type": "code",
   "execution_count": 1,
   "id": "ce3be506-3eab-4b1f-b175-2aadf3a909c0",
   "metadata": {},
   "outputs": [],
   "source": [
    "suppressMessages(library(MuSiC))\n",
    "suppressMessages(library(Seurat))\n",
    "suppressMessages(library(fastSave))\n",
    "suppressMessages(library(pbmcapply))\n",
    "suppressMessages(library(SingleCellExperiment))"
   ]
  },
  {
   "cell_type": "markdown",
   "id": "171e6719-2b78-4a9a-b142-bac60dcfca30",
   "metadata": {},
   "source": [
    "## 数据导入及bulk数据整理"
   ]
  },
  {
   "cell_type": "code",
   "execution_count": 2,
   "id": "c4dcdac7-ef6e-42df-9501-59c80232a2b6",
   "metadata": {},
   "outputs": [],
   "source": [
    "PFC.dgedata_150=readRDS.lbzip2(file='~/ReCIDE/benchmark测试/cross_dataset_PFC/ref_data/ref_all.rdsFS',n.cores = 200)\n",
    "EXP<- readRDS(\"~/ReCIDE/benchmark测试/cross_dataset_PFC/EXP_and_key/EXP_PFC.rds\")\n",
    "\n",
    "###########################"
   ]
  },
  {
   "cell_type": "code",
   "execution_count": 3,
   "id": "0acafc4a-cfed-443c-bef0-48eada0a304d",
   "metadata": {},
   "outputs": [],
   "source": [
    "######构建bulk\n",
    "bulk.mtx<-as.data.frame(EXP[[1]])\n",
    "for (i in 2:length(EXP)) {\n",
    "  bulk.mtx2<-as.data.frame(EXP[[i]])\n",
    "  bulk.mtx<-cbind(bulk.mtx,bulk.mtx2)\n",
    "  \n",
    "}\n",
    "bulk.mtx<-as.matrix(bulk.mtx)\n",
    "colnames(bulk.mtx)<-names(EXP)\n"
   ]
  },
  {
   "cell_type": "code",
   "execution_count": 4,
   "id": "a3174725-8f98-4b81-8f42-9d4aec2d765b",
   "metadata": {},
   "outputs": [
    {
     "name": "stderr",
     "output_type": "stream",
     "text": [
      "Warning message in asMethod(object):\n",
      "“sparse->dense coercion: allocating vector of size 60.9 GiB”\n"
     ]
    },
    {
     "data": {
      "text/html": [
       "TRUE"
      ],
      "text/latex": [
       "TRUE"
      ],
      "text/markdown": [
       "TRUE"
      ],
      "text/plain": [
       "[1] TRUE"
      ]
     },
     "metadata": {},
     "output_type": "display_data"
    },
    {
     "data": {
      "text/html": [
       "<table class=\"dataframe\">\n",
       "<caption>A matrix: 2 × 6 of type dbl</caption>\n",
       "<thead>\n",
       "\t<tr><th></th><th scope=col>used</th><th scope=col>(Mb)</th><th scope=col>gc trigger</th><th scope=col>(Mb)</th><th scope=col>max used</th><th scope=col>(Mb)</th></tr>\n",
       "</thead>\n",
       "<tbody>\n",
       "\t<tr><th scope=row>Ncells</th><td>   8589874</td><td>  458.8</td><td>   15305721</td><td>   817.5</td><td>   15305721</td><td>   817.5</td></tr>\n",
       "\t<tr><th scope=row>Vcells</th><td>3422833566</td><td>26114.2</td><td>32209662296</td><td>245740.3</td><td>33551660815</td><td>255978.9</td></tr>\n",
       "</tbody>\n",
       "</table>\n"
      ],
      "text/latex": [
       "A matrix: 2 × 6 of type dbl\n",
       "\\begin{tabular}{r|llllll}\n",
       "  & used & (Mb) & gc trigger & (Mb) & max used & (Mb)\\\\\n",
       "\\hline\n",
       "\tNcells &    8589874 &   458.8 &    15305721 &    817.5 &    15305721 &    817.5\\\\\n",
       "\tVcells & 3422833566 & 26114.2 & 32209662296 & 245740.3 & 33551660815 & 255978.9\\\\\n",
       "\\end{tabular}\n"
      ],
      "text/markdown": [
       "\n",
       "A matrix: 2 × 6 of type dbl\n",
       "\n",
       "| <!--/--> | used | (Mb) | gc trigger | (Mb) | max used | (Mb) |\n",
       "|---|---|---|---|---|---|---|\n",
       "| Ncells |    8589874 |   458.8 |    15305721 |    817.5 |    15305721 |    817.5 |\n",
       "| Vcells | 3422833566 | 26114.2 | 32209662296 | 245740.3 | 33551660815 | 255978.9 |\n",
       "\n"
      ],
      "text/plain": [
       "       used       (Mb)    gc trigger  (Mb)     max used    (Mb)    \n",
       "Ncells    8589874   458.8    15305721    817.5    15305721    817.5\n",
       "Vcells 3422833566 26114.2 32209662296 245740.3 33551660815 255978.9"
      ]
     },
     "metadata": {},
     "output_type": "display_data"
    }
   ],
   "source": [
    "###########################\n",
    "ref_seurat=PFC.dgedata_150\n",
    "kk<-as.data.frame(ref_seurat@assays[[\"RNA\"]]@counts)\n",
    "kksum<-as.data.frame(apply(kk, 2, sum))\n",
    "all(kksum>0)\n",
    "kksum<-subset(kksum,kksum[,1]>0,)\n",
    "kksum<-as.data.frame(kksum)\n",
    "ref_seurat<-ref_seurat[,row.names(kksum)]\n",
    "rm(kksum)\n",
    "rm(kk)\n",
    "\n",
    "gc()\n"
   ]
  },
  {
   "cell_type": "code",
   "execution_count": 5,
   "id": "78ae9101-f7ed-491f-ab5c-b1c16ca9509c",
   "metadata": {},
   "outputs": [
    {
     "name": "stderr",
     "output_type": "stream",
     "text": [
      "Warning message in asMethod(object):\n",
      "“sparse->dense coercion: allocating vector of size 60.9 GiB”\n"
     ]
    }
   ],
   "source": [
    "#单细胞参考集是sce的形式\n",
    "sce <- SingleCellExperiment(as.matrix(ref_seurat@assays$RNA@counts),\n",
    "                            colData=DataFrame(label=ref_seurat@meta.data),\n",
    "                            rowData=DataFrame(length=row.names(ref_seurat)))\n",
    "names(assays(sce))<-'counts'\n",
    "\n",
    "#在music前要先确定bulk和sc是否只有一列，只有一列的话无法运行（包括sample和cluster数是否为1）\n",
    "music_output = music_prop(bulk.mtx = bulk.mtx, sc.sce = sce, clusters = 'label.major.celltype',\n",
    "                              samples = 'label.subject',verbose = F)"
   ]
  },
  {
   "cell_type": "code",
   "execution_count": 6,
   "id": "62046e6e-009b-48ba-ab46-7fd3d4a69cc2",
   "metadata": {},
   "outputs": [],
   "source": [
    "saveRDS(music_output,file='/home/lmh/ReCIDE/benchmark测试/cross_dataset_PFC/music/music_tutorial/MuSiC_output.rds')"
   ]
  },
  {
   "cell_type": "code",
   "execution_count": 4,
   "id": "3b630608-f004-436b-a0e4-e6a2886c9414",
   "metadata": {},
   "outputs": [],
   "source": [
    "music_output=readRDS('/home/lmh/ReCIDE/benchmark测试/cross_dataset_PFC/music/music_tutorial/MuSiC_output.rds')\n",
    "prd_df=as.data.frame(t(music_output$Est.prop.weighted))"
   ]
  },
  {
   "cell_type": "code",
   "execution_count": 5,
   "id": "8a2dd39d-fec5-4a53-9dbe-2e4e04289098",
   "metadata": {},
   "outputs": [],
   "source": [
    "key_df<- readRDS(\"~/ReCIDE/benchmark测试/cross_dataset_PFC/EXP_and_key/key_PFC.rds\")\n"
   ]
  },
  {
   "cell_type": "code",
   "execution_count": 6,
   "id": "4fd18489-abed-4007-b615-7f675f083892",
   "metadata": {
    "tags": []
   },
   "outputs": [],
   "source": [
    "library(dplyr)\n",
    "\n",
    "prd_df=prd_df[sort(row.names(prd_df)),sort(colnames(prd_df))]\n",
    "key_df=key_df[sort(row.names(key_df)),sort(colnames(key_df))]\n",
    "\n",
    "# prd_df=prd_df[,c('P1','P2','P3','P4','P5','P6','P7','P8')]\n",
    "# key_df=key_df[,c('P1','P2','P3','P4','P5','P6','P7','P8')]\n",
    "\n",
    "rmse_vec=c()\n",
    "for (i in 1:ncol(key_df)) {\n",
    "  rmse_vec[i]=ModelMetrics::rmse(prd_df[,i],key_df[,i])\n",
    "}\n"
   ]
  },
  {
   "cell_type": "code",
   "execution_count": 7,
   "id": "a6fcc812-0bf4-4f49-8d1b-9c3bf21ee48d",
   "metadata": {},
   "outputs": [
    {
     "data": {
      "text/html": [
       "0.0390514929175515"
      ],
      "text/latex": [
       "0.0390514929175515"
      ],
      "text/markdown": [
       "0.0390514929175515"
      ],
      "text/plain": [
       "[1] 0.03905149"
      ]
     },
     "metadata": {},
     "output_type": "display_data"
    }
   ],
   "source": [
    "mean(rmse_vec)"
   ]
  },
  {
   "cell_type": "code",
   "execution_count": 11,
   "id": "336ee907-2759-404a-9b7a-26a93573ba1b",
   "metadata": {},
   "outputs": [],
   "source": [
    "saveRDS(prd_df,file='/home/lmh/ReCIDE/benchmark测试/cross_dataset_PFC/music/music_tutorial/MuSiC_prd_df.rds')"
   ]
  },
  {
   "cell_type": "code",
   "execution_count": null,
   "id": "eb97f1f1-d33f-4cf8-83d5-6c705592986d",
   "metadata": {},
   "outputs": [],
   "source": []
  }
 ],
 "metadata": {
  "kernelspec": {
   "display_name": "R",
   "language": "R",
   "name": "ir"
  },
  "language_info": {
   "codemirror_mode": "r",
   "file_extension": ".r",
   "mimetype": "text/x-r-source",
   "name": "R",
   "pygments_lexer": "r",
   "version": "4.3.1"
  }
 },
 "nbformat": 4,
 "nbformat_minor": 5
}
