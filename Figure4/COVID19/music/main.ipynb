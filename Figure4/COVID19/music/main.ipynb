{
 "cells": [
  {
   "cell_type": "code",
   "execution_count": 3,
   "id": "ce3be506-3eab-4b1f-b175-2aadf3a909c0",
   "metadata": {},
   "outputs": [],
   "source": [
    "suppressMessages(library(MuSiC))\n",
    "suppressMessages(library(Seurat))\n",
    "suppressMessages(library(fastSave))\n",
    "suppressMessages(library(pbmcapply))\n",
    "suppressMessages(library(SingleCellExperiment))"
   ]
  },
  {
   "cell_type": "markdown",
   "id": "171e6719-2b78-4a9a-b142-bac60dcfca30",
   "metadata": {},
   "source": [
    "## 数据导入及bulk数据整理"
   ]
  },
  {
   "cell_type": "code",
   "execution_count": 4,
   "id": "c4dcdac7-ef6e-42df-9501-59c80232a2b6",
   "metadata": {},
   "outputs": [],
   "source": [
    "ref_seurat<-readRDS.lbzip2('~/scRNA_Seq_data/PBMC/Stephenson_seurat.rdsFS',n.cores = 200)\n",
    "bulk.mtx<- readRDS(\"~/ReCIDE/应用_前二_新_inter/COVID19/bulkdata/counts_data_query.rds\")\n",
    "\n",
    "###########################"
   ]
  },
  {
   "cell_type": "code",
   "execution_count": 5,
   "id": "0acafc4a-cfed-443c-bef0-48eada0a304d",
   "metadata": {},
   "outputs": [],
   "source": [
    "bulk.mtx<-as.matrix(bulk.mtx)\n"
   ]
  },
  {
   "cell_type": "code",
   "execution_count": 6,
   "id": "a3174725-8f98-4b81-8f42-9d4aec2d765b",
   "metadata": {},
   "outputs": [
    {
     "name": "stderr",
     "output_type": "stream",
     "text": [
      "Warning message in asMethod(object):\n",
      "“sparse->dense coercion: allocating vector of size 11.7 GiB”\n"
     ]
    },
    {
     "data": {
      "text/html": [
       "TRUE"
      ],
      "text/latex": [
       "TRUE"
      ],
      "text/markdown": [
       "TRUE"
      ],
      "text/plain": [
       "[1] TRUE"
      ]
     },
     "metadata": {},
     "output_type": "display_data"
    },
    {
     "data": {
      "text/html": [
       "<table class=\"dataframe\">\n",
       "<caption>A matrix: 2 × 6 of type dbl</caption>\n",
       "<thead>\n",
       "\t<tr><th></th><th scope=col>used</th><th scope=col>(Mb)</th><th scope=col>gc trigger</th><th scope=col>(Mb)</th><th scope=col>max used</th><th scope=col>(Mb)</th></tr>\n",
       "</thead>\n",
       "<tbody>\n",
       "\t<tr><th scope=row>Ncells</th><td>   8654546</td><td>  462.3</td><td>  13675884</td><td>  730.4</td><td>  13675884</td><td>  730.4</td></tr>\n",
       "\t<tr><th scope=row>Vcells</th><td>1975655721</td><td>15073.1</td><td>5883990600</td><td>44891.3</td><td>6129088349</td><td>46761.3</td></tr>\n",
       "</tbody>\n",
       "</table>\n"
      ],
      "text/latex": [
       "A matrix: 2 × 6 of type dbl\n",
       "\\begin{tabular}{r|llllll}\n",
       "  & used & (Mb) & gc trigger & (Mb) & max used & (Mb)\\\\\n",
       "\\hline\n",
       "\tNcells &    8654546 &   462.3 &   13675884 &   730.4 &   13675884 &   730.4\\\\\n",
       "\tVcells & 1975655721 & 15073.1 & 5883990600 & 44891.3 & 6129088349 & 46761.3\\\\\n",
       "\\end{tabular}\n"
      ],
      "text/markdown": [
       "\n",
       "A matrix: 2 × 6 of type dbl\n",
       "\n",
       "| <!--/--> | used | (Mb) | gc trigger | (Mb) | max used | (Mb) |\n",
       "|---|---|---|---|---|---|---|\n",
       "| Ncells |    8654546 |   462.3 |   13675884 |   730.4 |   13675884 |   730.4 |\n",
       "| Vcells | 1975655721 | 15073.1 | 5883990600 | 44891.3 | 6129088349 | 46761.3 |\n",
       "\n"
      ],
      "text/plain": [
       "       used       (Mb)    gc trigger (Mb)    max used   (Mb)   \n",
       "Ncells    8654546   462.3   13675884   730.4   13675884   730.4\n",
       "Vcells 1975655721 15073.1 5883990600 44891.3 6129088349 46761.3"
      ]
     },
     "metadata": {},
     "output_type": "display_data"
    }
   ],
   "source": [
    "\n",
    "kk<-as.data.frame(ref_seurat@assays[[\"RNA\"]]@counts)\n",
    "kksum<-as.data.frame(apply(kk, 2, sum))\n",
    "all(kksum>0)\n",
    "kksum<-subset(kksum,kksum[,1]>0,)\n",
    "kksum<-as.data.frame(kksum)\n",
    "ref_seurat<-ref_seurat[,row.names(kksum)]\n",
    "rm(kksum)\n",
    "gc()\n"
   ]
  },
  {
   "cell_type": "code",
   "execution_count": 7,
   "id": "b4c87988-42b8-4270-b239-0f85671e9d2c",
   "metadata": {},
   "outputs": [
    {
     "data": {
      "text/html": [
       "<table class=\"dataframe\">\n",
       "<caption>A data.frame: 6 × 29</caption>\n",
       "<thead>\n",
       "\t<tr><th></th><th scope=col>nCount_raw</th><th scope=col>nFeature_raw</th><th scope=col>sample_id</th><th scope=col>n_genes</th><th scope=col>n_genes_by_counts</th><th scope=col>total_counts</th><th scope=col>total_counts_mt</th><th scope=col>pct_counts_mt</th><th scope=col>full_clustering</th><th scope=col>initial_clustering</th><th scope=col>⋯</th><th scope=col>Days_from_onset</th><th scope=col>Site</th><th scope=col>time_after_LPS</th><th scope=col>Worst_Clinical_Status</th><th scope=col>Outcome</th><th scope=col>patient_id</th><th scope=col>nCount_RNA</th><th scope=col>nFeature_RNA</th><th scope=col>true</th><th scope=col>scibet_prd</th></tr>\n",
       "\t<tr><th></th><th scope=col>&lt;dbl&gt;</th><th scope=col>&lt;int&gt;</th><th scope=col>&lt;fct&gt;</th><th scope=col>&lt;int&gt;</th><th scope=col>&lt;int&gt;</th><th scope=col>&lt;dbl&gt;</th><th scope=col>&lt;dbl&gt;</th><th scope=col>&lt;dbl&gt;</th><th scope=col>&lt;fct&gt;</th><th scope=col>&lt;fct&gt;</th><th scope=col>⋯</th><th scope=col>&lt;fct&gt;</th><th scope=col>&lt;fct&gt;</th><th scope=col>&lt;fct&gt;</th><th scope=col>&lt;fct&gt;</th><th scope=col>&lt;fct&gt;</th><th scope=col>&lt;fct&gt;</th><th scope=col>&lt;dbl&gt;</th><th scope=col>&lt;int&gt;</th><th scope=col>&lt;chr&gt;</th><th scope=col>&lt;chr&gt;</th></tr>\n",
       "</thead>\n",
       "<tbody>\n",
       "\t<tr><th scope=row>AAACCTGAGACCACGA-newcastle65</th><td>4983</td><td>1506</td><td>newcastle65</td><td>1351</td><td>1351</td><td>4278</td><td>178</td><td>4.160823</td><td>CD4.Naive</td><td>CD4    </td><td>⋯</td><td>Healthy</td><td>Ncl</td><td>nan</td><td>Healthy</td><td>Home</td><td>newcastle65</td><td>2114.782</td><td>1446</td><td>CD4.Naive</td><td>T4</td></tr>\n",
       "\t<tr><th scope=row>AAACCTGAGATGTCGG-newcastle65</th><td>5642</td><td>2077</td><td>newcastle65</td><td>1921</td><td>1921</td><td>4740</td><td>127</td><td>2.679325</td><td>NK_16hi  </td><td>NK_16hi</td><td>⋯</td><td>Healthy</td><td>Ncl</td><td>nan</td><td>Healthy</td><td>Home</td><td>newcastle65</td><td>2790.520</td><td>1995</td><td>NK       </td><td>NK</td></tr>\n",
       "\t<tr><th scope=row>AAACCTGAGGCGATAC-newcastle65</th><td>3910</td><td>1213</td><td>newcastle65</td><td>1056</td><td>1056</td><td>2875</td><td>198</td><td>6.886957</td><td>CD4.Naive</td><td>Treg   </td><td>⋯</td><td>Healthy</td><td>Ncl</td><td>nan</td><td>Healthy</td><td>Home</td><td>newcastle65</td><td>1963.209</td><td>1128</td><td>CD4.Naive</td><td>T4</td></tr>\n",
       "\t<tr><th scope=row>AAACCTGAGTACACCT-newcastle65</th><td>6008</td><td>2298</td><td>newcastle65</td><td>2140</td><td>2140</td><td>5260</td><td>316</td><td>6.007605</td><td>NK_16hi  </td><td>NK_16hi</td><td>⋯</td><td>Healthy</td><td>Ncl</td><td>nan</td><td>Healthy</td><td>Home</td><td>newcastle65</td><td>2980.832</td><td>2223</td><td>NK       </td><td>NK</td></tr>\n",
       "\t<tr><th scope=row>AAACCTGAGTGAATTG-newcastle65</th><td>4298</td><td>1730</td><td>newcastle65</td><td>1620</td><td>1620</td><td>4043</td><td>232</td><td>5.738313</td><td>CD8.EM   </td><td>CD4    </td><td>⋯</td><td>Healthy</td><td>Ncl</td><td>nan</td><td>Healthy</td><td>Home</td><td>newcastle65</td><td>2579.246</td><td>1772</td><td>CD8.EM   </td><td>T8</td></tr>\n",
       "\t<tr><th scope=row>AAACCTGCATCACGAT-newcastle65</th><td>6661</td><td>2082</td><td>newcastle65</td><td>1925</td><td>1925</td><td>5846</td><td>201</td><td>3.438248</td><td>CD4.IL22 </td><td>CD4    </td><td>⋯</td><td>Healthy</td><td>Ncl</td><td>nan</td><td>Healthy</td><td>Home</td><td>newcastle65</td><td>2576.568</td><td>2012</td><td>CD4.IL22 </td><td>T8</td></tr>\n",
       "</tbody>\n",
       "</table>\n"
      ],
      "text/latex": [
       "A data.frame: 6 × 29\n",
       "\\begin{tabular}{r|lllllllllllllllllllll}\n",
       "  & nCount\\_raw & nFeature\\_raw & sample\\_id & n\\_genes & n\\_genes\\_by\\_counts & total\\_counts & total\\_counts\\_mt & pct\\_counts\\_mt & full\\_clustering & initial\\_clustering & ⋯ & Days\\_from\\_onset & Site & time\\_after\\_LPS & Worst\\_Clinical\\_Status & Outcome & patient\\_id & nCount\\_RNA & nFeature\\_RNA & true & scibet\\_prd\\\\\n",
       "  & <dbl> & <int> & <fct> & <int> & <int> & <dbl> & <dbl> & <dbl> & <fct> & <fct> & ⋯ & <fct> & <fct> & <fct> & <fct> & <fct> & <fct> & <dbl> & <int> & <chr> & <chr>\\\\\n",
       "\\hline\n",
       "\tAAACCTGAGACCACGA-newcastle65 & 4983 & 1506 & newcastle65 & 1351 & 1351 & 4278 & 178 & 4.160823 & CD4.Naive & CD4     & ⋯ & Healthy & Ncl & nan & Healthy & Home & newcastle65 & 2114.782 & 1446 & CD4.Naive & T4\\\\\n",
       "\tAAACCTGAGATGTCGG-newcastle65 & 5642 & 2077 & newcastle65 & 1921 & 1921 & 4740 & 127 & 2.679325 & NK\\_16hi   & NK\\_16hi & ⋯ & Healthy & Ncl & nan & Healthy & Home & newcastle65 & 2790.520 & 1995 & NK        & NK\\\\\n",
       "\tAAACCTGAGGCGATAC-newcastle65 & 3910 & 1213 & newcastle65 & 1056 & 1056 & 2875 & 198 & 6.886957 & CD4.Naive & Treg    & ⋯ & Healthy & Ncl & nan & Healthy & Home & newcastle65 & 1963.209 & 1128 & CD4.Naive & T4\\\\\n",
       "\tAAACCTGAGTACACCT-newcastle65 & 6008 & 2298 & newcastle65 & 2140 & 2140 & 5260 & 316 & 6.007605 & NK\\_16hi   & NK\\_16hi & ⋯ & Healthy & Ncl & nan & Healthy & Home & newcastle65 & 2980.832 & 2223 & NK        & NK\\\\\n",
       "\tAAACCTGAGTGAATTG-newcastle65 & 4298 & 1730 & newcastle65 & 1620 & 1620 & 4043 & 232 & 5.738313 & CD8.EM    & CD4     & ⋯ & Healthy & Ncl & nan & Healthy & Home & newcastle65 & 2579.246 & 1772 & CD8.EM    & T8\\\\\n",
       "\tAAACCTGCATCACGAT-newcastle65 & 6661 & 2082 & newcastle65 & 1925 & 1925 & 5846 & 201 & 3.438248 & CD4.IL22  & CD4     & ⋯ & Healthy & Ncl & nan & Healthy & Home & newcastle65 & 2576.568 & 2012 & CD4.IL22  & T8\\\\\n",
       "\\end{tabular}\n"
      ],
      "text/markdown": [
       "\n",
       "A data.frame: 6 × 29\n",
       "\n",
       "| <!--/--> | nCount_raw &lt;dbl&gt; | nFeature_raw &lt;int&gt; | sample_id &lt;fct&gt; | n_genes &lt;int&gt; | n_genes_by_counts &lt;int&gt; | total_counts &lt;dbl&gt; | total_counts_mt &lt;dbl&gt; | pct_counts_mt &lt;dbl&gt; | full_clustering &lt;fct&gt; | initial_clustering &lt;fct&gt; | ⋯ ⋯ | Days_from_onset &lt;fct&gt; | Site &lt;fct&gt; | time_after_LPS &lt;fct&gt; | Worst_Clinical_Status &lt;fct&gt; | Outcome &lt;fct&gt; | patient_id &lt;fct&gt; | nCount_RNA &lt;dbl&gt; | nFeature_RNA &lt;int&gt; | true &lt;chr&gt; | scibet_prd &lt;chr&gt; |\n",
       "|---|---|---|---|---|---|---|---|---|---|---|---|---|---|---|---|---|---|---|---|---|---|\n",
       "| AAACCTGAGACCACGA-newcastle65 | 4983 | 1506 | newcastle65 | 1351 | 1351 | 4278 | 178 | 4.160823 | CD4.Naive | CD4     | ⋯ | Healthy | Ncl | nan | Healthy | Home | newcastle65 | 2114.782 | 1446 | CD4.Naive | T4 |\n",
       "| AAACCTGAGATGTCGG-newcastle65 | 5642 | 2077 | newcastle65 | 1921 | 1921 | 4740 | 127 | 2.679325 | NK_16hi   | NK_16hi | ⋯ | Healthy | Ncl | nan | Healthy | Home | newcastle65 | 2790.520 | 1995 | NK        | NK |\n",
       "| AAACCTGAGGCGATAC-newcastle65 | 3910 | 1213 | newcastle65 | 1056 | 1056 | 2875 | 198 | 6.886957 | CD4.Naive | Treg    | ⋯ | Healthy | Ncl | nan | Healthy | Home | newcastle65 | 1963.209 | 1128 | CD4.Naive | T4 |\n",
       "| AAACCTGAGTACACCT-newcastle65 | 6008 | 2298 | newcastle65 | 2140 | 2140 | 5260 | 316 | 6.007605 | NK_16hi   | NK_16hi | ⋯ | Healthy | Ncl | nan | Healthy | Home | newcastle65 | 2980.832 | 2223 | NK        | NK |\n",
       "| AAACCTGAGTGAATTG-newcastle65 | 4298 | 1730 | newcastle65 | 1620 | 1620 | 4043 | 232 | 5.738313 | CD8.EM    | CD4     | ⋯ | Healthy | Ncl | nan | Healthy | Home | newcastle65 | 2579.246 | 1772 | CD8.EM    | T8 |\n",
       "| AAACCTGCATCACGAT-newcastle65 | 6661 | 2082 | newcastle65 | 1925 | 1925 | 5846 | 201 | 3.438248 | CD4.IL22  | CD4     | ⋯ | Healthy | Ncl | nan | Healthy | Home | newcastle65 | 2576.568 | 2012 | CD4.IL22  | T8 |\n",
       "\n"
      ],
      "text/plain": [
       "                             nCount_raw nFeature_raw sample_id   n_genes\n",
       "AAACCTGAGACCACGA-newcastle65 4983       1506         newcastle65 1351   \n",
       "AAACCTGAGATGTCGG-newcastle65 5642       2077         newcastle65 1921   \n",
       "AAACCTGAGGCGATAC-newcastle65 3910       1213         newcastle65 1056   \n",
       "AAACCTGAGTACACCT-newcastle65 6008       2298         newcastle65 2140   \n",
       "AAACCTGAGTGAATTG-newcastle65 4298       1730         newcastle65 1620   \n",
       "AAACCTGCATCACGAT-newcastle65 6661       2082         newcastle65 1925   \n",
       "                             n_genes_by_counts total_counts total_counts_mt\n",
       "AAACCTGAGACCACGA-newcastle65 1351              4278         178            \n",
       "AAACCTGAGATGTCGG-newcastle65 1921              4740         127            \n",
       "AAACCTGAGGCGATAC-newcastle65 1056              2875         198            \n",
       "AAACCTGAGTACACCT-newcastle65 2140              5260         316            \n",
       "AAACCTGAGTGAATTG-newcastle65 1620              4043         232            \n",
       "AAACCTGCATCACGAT-newcastle65 1925              5846         201            \n",
       "                             pct_counts_mt full_clustering initial_clustering ⋯\n",
       "AAACCTGAGACCACGA-newcastle65 4.160823      CD4.Naive       CD4                ⋯\n",
       "AAACCTGAGATGTCGG-newcastle65 2.679325      NK_16hi         NK_16hi            ⋯\n",
       "AAACCTGAGGCGATAC-newcastle65 6.886957      CD4.Naive       Treg               ⋯\n",
       "AAACCTGAGTACACCT-newcastle65 6.007605      NK_16hi         NK_16hi            ⋯\n",
       "AAACCTGAGTGAATTG-newcastle65 5.738313      CD8.EM          CD4                ⋯\n",
       "AAACCTGCATCACGAT-newcastle65 3.438248      CD4.IL22        CD4                ⋯\n",
       "                             Days_from_onset Site time_after_LPS\n",
       "AAACCTGAGACCACGA-newcastle65 Healthy         Ncl  nan           \n",
       "AAACCTGAGATGTCGG-newcastle65 Healthy         Ncl  nan           \n",
       "AAACCTGAGGCGATAC-newcastle65 Healthy         Ncl  nan           \n",
       "AAACCTGAGTACACCT-newcastle65 Healthy         Ncl  nan           \n",
       "AAACCTGAGTGAATTG-newcastle65 Healthy         Ncl  nan           \n",
       "AAACCTGCATCACGAT-newcastle65 Healthy         Ncl  nan           \n",
       "                             Worst_Clinical_Status Outcome patient_id \n",
       "AAACCTGAGACCACGA-newcastle65 Healthy               Home    newcastle65\n",
       "AAACCTGAGATGTCGG-newcastle65 Healthy               Home    newcastle65\n",
       "AAACCTGAGGCGATAC-newcastle65 Healthy               Home    newcastle65\n",
       "AAACCTGAGTACACCT-newcastle65 Healthy               Home    newcastle65\n",
       "AAACCTGAGTGAATTG-newcastle65 Healthy               Home    newcastle65\n",
       "AAACCTGCATCACGAT-newcastle65 Healthy               Home    newcastle65\n",
       "                             nCount_RNA nFeature_RNA true      scibet_prd\n",
       "AAACCTGAGACCACGA-newcastle65 2114.782   1446         CD4.Naive T4        \n",
       "AAACCTGAGATGTCGG-newcastle65 2790.520   1995         NK        NK        \n",
       "AAACCTGAGGCGATAC-newcastle65 1963.209   1128         CD4.Naive T4        \n",
       "AAACCTGAGTACACCT-newcastle65 2980.832   2223         NK        NK        \n",
       "AAACCTGAGTGAATTG-newcastle65 2579.246   1772         CD8.EM    T8        \n",
       "AAACCTGCATCACGAT-newcastle65 2576.568   2012         CD4.IL22  T8        "
      ]
     },
     "metadata": {},
     "output_type": "display_data"
    }
   ],
   "source": [
    "head(ref_seurat@meta.data)"
   ]
  },
  {
   "cell_type": "code",
   "execution_count": 8,
   "id": "78ae9101-f7ed-491f-ab5c-b1c16ca9509c",
   "metadata": {},
   "outputs": [
    {
     "name": "stderr",
     "output_type": "stream",
     "text": [
      "Warning message in asMethod(object):\n",
      "“sparse->dense coercion: allocating vector of size 11.7 GiB”\n"
     ]
    }
   ],
   "source": [
    "#单细胞参考集是sce的形式\n",
    "sce <- SingleCellExperiment(as.matrix(ref_seurat@assays$RNA@counts),\n",
    "                            colData=DataFrame(label=ref_seurat@meta.data),\n",
    "                            rowData=DataFrame(length=row.names(ref_seurat)))\n",
    "names(assays(sce))<-'counts'\n",
    "\n",
    "#在music前要先确定bulk和sc是否只有一列，只有一列的话无法运行（包括sample和cluster数是否为1）\n",
    "music_output = music_prop(bulk.mtx = bulk.mtx, sc.sce = sce, clusters = 'label.true',\n",
    "                              samples = 'label.patient_id',verbose = F)"
   ]
  },
  {
   "cell_type": "code",
   "execution_count": 9,
   "id": "62046e6e-009b-48ba-ab46-7fd3d4a69cc2",
   "metadata": {},
   "outputs": [],
   "source": [
    "saveRDS(music_output,file='/home/lmh/ReCIDE/应用_前二_新_inter/COVID19/music/MuSiC_output.rds')"
   ]
  },
  {
   "cell_type": "code",
   "execution_count": 10,
   "id": "3b630608-f004-436b-a0e4-e6a2886c9414",
   "metadata": {},
   "outputs": [],
   "source": [
    "music_output=readRDS('/home/lmh/ReCIDE/应用_前二_新_inter/COVID19/music/MuSiC_output.rds')\n",
    "prd_df=as.data.frame(t(music_output$Est.prop.weighted))"
   ]
  },
  {
   "cell_type": "code",
   "execution_count": 11,
   "id": "23f671f2-c401-4aa3-93a2-efad3f16eee0",
   "metadata": {},
   "outputs": [],
   "source": [
    "saveRDS(prd_df,file='/home/lmh/ReCIDE/应用_前二_新_inter/COVID19/music/MuSiC_prd_df.rds')"
   ]
  },
  {
   "cell_type": "code",
   "execution_count": 12,
   "id": "a170f131-35a4-4be4-af21-b94b562443ba",
   "metadata": {},
   "outputs": [
    {
     "data": {
      "text/html": [
       "TRUE"
      ],
      "text/latex": [
       "TRUE"
      ],
      "text/markdown": [
       "TRUE"
      ],
      "text/plain": [
       "[1] TRUE"
      ]
     },
     "metadata": {},
     "output_type": "display_data"
    },
    {
     "data": {
      "image/png": "[encoded data removed]",
      "text/plain": [
       "plot without title"
      ]
     },
     "metadata": {
      "image/png": {
       "height": 420,
       "width": 420
      }
     },
     "output_type": "display_data"
    }
   ],
   "source": [
    "library(ggplot2)\n",
    "library(ggpubr)\n",
    "\n",
    "prd_df<- readRDS(\"~/ReCIDE/应用_前二_新_inter/COVID19/music/MuSiC_prd_df.rds\")\n",
    "# prd_df['B',]=prd_df[2,]+prd_df[3,]+prd_df[4,]\n",
    "prd_df=prd_df[,sort(colnames(prd_df))]\n",
    "prd_df['DCs',]=prd_df['DC',]+prd_df['pDC',]\n",
    "\n",
    "metadata<- readRDS(\"~/ReCIDE/应用_前二_新_inter/COVID19/bulkdata/metadata_query.rds\")\n",
    "metadata=metadata[sort(row.names(metadata)),]\n",
    "\n",
    "\n",
    "all(row.names(metadata)==colnames(prd_df))\n",
    "\n",
    "plot_data=as.data.frame(t(prd_df))\n",
    "\n",
    "plot_data[,'category']=metadata[,'characteristics_ch1.3']\n",
    "# \n",
    "# patient_names=row.names(metadata[metadata[,\"included in case -control study:ch1\"]=='yes',])\n",
    "# plot_data=plot_data[patient_names,]\n",
    "\n",
    "plot_data=subset(plot_data,category %in% c(\"sample timing: healthy\",\n",
    "                                           \"sample timing: acute\"))\n",
    "# # # \n",
    "# # \n",
    "# plot_data[,'category']=factor(plot_data[,'category'],levels = c(\"sample timing: healthy\",\n",
    "#                                                                 \"sample timing: acute\"))\n",
    "\n",
    "\n",
    "ggplot(plot_data, aes(x= category, y=DCs,fill=category)) + \n",
    "  geom_boxplot(aes(color = category),#这里的fill如果不设就是空心的\n",
    "               size = .7, alpha = .5, outlier.size = 1,\n",
    "               position = position_dodge(width = 0.5), width = 0.5) +\n",
    "  # position_dodge是箱子间距离  width是箱宽\n",
    "  # geom_boxplot(data=subset(plot_data, methods %in% 'empty'), width = .5) +\n",
    "  theme_classic() +\n",
    "  theme(\n",
    "    axis.text.x = element_text(size = 9, face = \"bold\", angle = -45),\n",
    "    axis.text.y = element_text(size = 9, face = \"bold\"),\n",
    "    # axis.text.x = element_blank(),\n",
    "    # axis.text.y = element_blank(),\n",
    "    axis.title = element_text(size = 8, face = \"bold\"),\n",
    "    plot.title = element_text(size = 8, face = \"bold\", hjust = 0.5),\n",
    "    plot.subtitle = element_text(size = 10, face = \"bold\", hjust = 0.5),\n",
    "    panel.border = element_rect(fill=NA,color=\"black\", size=1, linetype=\"solid\"),\n",
    "    legend.position = 'none'\n",
    "    # axis.title = element_text(size = 8)\n",
    "  )+\n",
    "  stat_compare_means()"
   ]
  },
  {
   "cell_type": "code",
   "execution_count": null,
   "id": "b37c562f-48b7-4801-aeb9-dfe37a5ee6fc",
   "metadata": {},
   "outputs": [],
   "source": []
  },
  {
   "cell_type": "code",
   "execution_count": null,
   "id": "1f576152-4e19-4e10-aea2-be0f19f95754",
   "metadata": {},
   "outputs": [],
   "source": []
  }
 ],
 "metadata": {
  "kernelspec": {
   "display_name": "R",
   "language": "R",
   "name": "ir"
  },
  "language_info": {
   "codemirror_mode": "r",
   "file_extension": ".r",
   "mimetype": "text/x-r-source",
   "name": "R",
   "pygments_lexer": "r",
   "version": "4.3.1"
  }
 },
 "nbformat": 4,
 "nbformat_minor": 5
}
